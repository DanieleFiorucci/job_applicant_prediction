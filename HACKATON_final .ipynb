{
 "cells": [
  {
   "cell_type": "markdown",
   "id": "16b20964",
   "metadata": {},
   "source": [
    "## Import the libraries "
   ]
  },
  {
   "cell_type": "code",
   "execution_count": 1,
   "id": "97eced85",
   "metadata": {},
   "outputs": [],
   "source": [
    "import pandas as pd\n",
    "import numpy as np\n",
    "import matplotlib.pyplot as plt"
   ]
  },
  {
   "cell_type": "code",
   "execution_count": 2,
   "id": "ede34880",
   "metadata": {},
   "outputs": [],
   "source": [
    "contacts = pd.read_excel(\"Contacts.xlsx\", header = 1)\n",
    "applicants = pd.read_excel(\"Job Applicants.xlsx\", header = 0)\n",
    "jobs = pd.read_excel(\"Jobs.xlsx\", header = 1)"
   ]
  },
  {
   "cell_type": "markdown",
   "id": "e96659d3",
   "metadata": {},
   "source": [
    "## Identify the columns on which to merge"
   ]
  },
  {
   "cell_type": "code",
   "execution_count": 3,
   "id": "38c9c42f",
   "metadata": {},
   "outputs": [
    {
     "name": "stdout",
     "output_type": "stream",
     "text": [
      "Osservazioni comuni: 71884\n"
     ]
    }
   ],
   "source": [
    "count = applicants[applicants['AVTRRT__Job__c'].isin(jobs['Id'])].shape[0]\n",
    "\n",
    "# Stampa il conteggio delle osservazioni comuni\n",
    "print(\"Osservazioni comuni:\", count)"
   ]
  },
  {
   "cell_type": "code",
   "execution_count": 4,
   "id": "802b32bf",
   "metadata": {},
   "outputs": [
    {
     "name": "stdout",
     "output_type": "stream",
     "text": [
      "Osservazioni comuni: 71091\n"
     ]
    }
   ],
   "source": [
    "count2 = applicants[applicants['AVTRRT__Contact_Candidate__c'].isin(contacts['Id'])].shape[0]\n",
    "\n",
    "# Stampa il conteggio delle osservazioni comuni\n",
    "print(\"Osservazioni comuni:\", count2)"
   ]
  },
  {
   "cell_type": "markdown",
   "id": "94c3adb3",
   "metadata": {},
   "source": [
    "## Creating column lists to eliminate duplicates"
   ]
  },
  {
   "cell_type": "code",
   "execution_count": 5,
   "id": "339297bc",
   "metadata": {},
   "outputs": [],
   "source": [
    "lista_app = applicants.columns.tolist()"
   ]
  },
  {
   "cell_type": "code",
   "execution_count": 6,
   "id": "cc3b9802",
   "metadata": {},
   "outputs": [],
   "source": [
    "lista_jobs = jobs.columns.tolist()"
   ]
  },
  {
   "cell_type": "code",
   "execution_count": 7,
   "id": "481cf1bd",
   "metadata": {},
   "outputs": [],
   "source": [
    "lista_contacts = contacts.columns.tolist()"
   ]
  },
  {
   "cell_type": "code",
   "execution_count": 8,
   "id": "945b854c",
   "metadata": {},
   "outputs": [],
   "source": [
    "set_app = set(lista_app)\n",
    "set_jobs = set(lista_jobs)\n",
    "\n",
    "common_items = list(set_app.intersection(set_jobs))"
   ]
  },
  {
   "cell_type": "code",
   "execution_count": 9,
   "id": "41630b14",
   "metadata": {},
   "outputs": [],
   "source": [
    "common_items.remove(\"Id\")"
   ]
  },
  {
   "cell_type": "code",
   "execution_count": 10,
   "id": "1e3b39d0",
   "metadata": {},
   "outputs": [],
   "source": [
    "jobs.drop(common_items, axis = 1, inplace = True)"
   ]
  },
  {
   "cell_type": "code",
   "execution_count": 11,
   "id": "32f96b57",
   "metadata": {},
   "outputs": [],
   "source": [
    "jobs = jobs.rename(columns={'Id': 'AVTRRT__Job__c'})"
   ]
  },
  {
   "cell_type": "markdown",
   "id": "2e644439",
   "metadata": {},
   "source": [
    "## Merge applicants and jobs via the variables AVTRRT__Job__c and Id"
   ]
  },
  {
   "cell_type": "code",
   "execution_count": 12,
   "id": "3c0938b2",
   "metadata": {},
   "outputs": [],
   "source": [
    "merged_df = pd.merge(applicants, jobs, on = \"AVTRRT__Job__c\", how = \"left\")"
   ]
  },
  {
   "cell_type": "markdown",
   "id": "1feb547b",
   "metadata": {},
   "source": [
    "## Same procedure for this new table and contacts"
   ]
  },
  {
   "cell_type": "code",
   "execution_count": 13,
   "id": "15a79222",
   "metadata": {},
   "outputs": [],
   "source": [
    "lista_merge = merged_df.columns.tolist()"
   ]
  },
  {
   "cell_type": "code",
   "execution_count": 14,
   "id": "61bdf587",
   "metadata": {},
   "outputs": [],
   "source": [
    "set_merge = set(lista_merge)\n",
    "set_contacts = set(lista_contacts)"
   ]
  },
  {
   "cell_type": "code",
   "execution_count": 15,
   "id": "6570fafc",
   "metadata": {},
   "outputs": [],
   "source": [
    "common_items_2 = list(set_merge.intersection(set_contacts))"
   ]
  },
  {
   "cell_type": "code",
   "execution_count": 16,
   "id": "f9a62d8b",
   "metadata": {},
   "outputs": [],
   "source": [
    "common_items_2.remove(\"Id\")"
   ]
  },
  {
   "cell_type": "code",
   "execution_count": 17,
   "id": "52f6d66b",
   "metadata": {},
   "outputs": [],
   "source": [
    "contacts.drop(common_items_2, axis = 1, inplace = True)"
   ]
  },
  {
   "cell_type": "code",
   "execution_count": 18,
   "id": "44986e62",
   "metadata": {},
   "outputs": [],
   "source": [
    "contacts = contacts.rename(columns={'Id': 'AVTRRT__Contact_Candidate__c'})"
   ]
  },
  {
   "cell_type": "code",
   "execution_count": 19,
   "id": "81d68435",
   "metadata": {},
   "outputs": [],
   "source": [
    "merged_df_finale = pd.merge(merged_df, contacts, on = \"AVTRRT__Contact_Candidate__c\", how = \"left\")"
   ]
  },
  {
   "cell_type": "markdown",
   "id": "c51a4b97",
   "metadata": {},
   "source": [
    "## Do a first profiling to better understand the dataset"
   ]
  },
  {
   "cell_type": "code",
   "execution_count": 20,
   "id": "5a720c83",
   "metadata": {},
   "outputs": [],
   "source": [
    "from ydata_profiling import ProfileReport"
   ]
  },
  {
   "cell_type": "code",
   "execution_count": 21,
   "id": "aeddb40f",
   "metadata": {},
   "outputs": [
    {
     "data": {
      "application/vnd.jupyter.widget-view+json": {
       "model_id": "b48186ec6afd441c8d0ac7f40348fd6c",
       "version_major": 2,
       "version_minor": 0
      },
      "text/plain": [
       "Summarize dataset:   0%|          | 0/5 [00:00<?, ?it/s]"
      ]
     },
     "metadata": {},
     "output_type": "display_data"
    },
    {
     "name": "stderr",
     "output_type": "stream",
     "text": [
      "C:\\Users\\Fioruch\\anaconda3\\lib\\site-packages\\ydata_profiling\\model\\pandas\\duplicates_pandas.py:37: PerformanceWarning: DataFrame is highly fragmented.  This is usually the result of calling `frame.insert` many times, which has poor performance.  Consider joining all columns at once using pd.concat(axis=1) instead. To get a de-fragmented frame, use `newframe = frame.copy()`\n",
      "  df[duplicated_rows]\n"
     ]
    },
    {
     "data": {
      "application/vnd.jupyter.widget-view+json": {
       "model_id": "5e63b03fcad54ab1a96dbefd80423b05",
       "version_major": 2,
       "version_minor": 0
      },
      "text/plain": [
       "Generate report structure:   0%|          | 0/1 [00:00<?, ?it/s]"
      ]
     },
     "metadata": {},
     "output_type": "display_data"
    },
    {
     "ename": "KeyboardInterrupt",
     "evalue": "",
     "output_type": "error",
     "traceback": [
      "\u001b[1;31m---------------------------------------------------------------------------\u001b[0m",
      "\u001b[1;31mKeyboardInterrupt\u001b[0m                         Traceback (most recent call last)",
      "\u001b[1;32m~\\AppData\\Local\\Temp\\ipykernel_8432\\976666622.py\u001b[0m in \u001b[0;36m<module>\u001b[1;34m\u001b[0m\n\u001b[0;32m      1\u001b[0m \u001b[0mprofile\u001b[0m \u001b[1;33m=\u001b[0m \u001b[0mProfileReport\u001b[0m\u001b[1;33m(\u001b[0m\u001b[0mmerged_df_finale\u001b[0m\u001b[1;33m,\u001b[0m \u001b[0mtitle\u001b[0m\u001b[1;33m=\u001b[0m\u001b[1;34m\"STEM HACKATON - Pandas Profiling Report\"\u001b[0m\u001b[1;33m,\u001b[0m \u001b[0mexplorative\u001b[0m\u001b[1;33m=\u001b[0m\u001b[1;32mTrue\u001b[0m\u001b[1;33m)\u001b[0m\u001b[1;33m\u001b[0m\u001b[1;33m\u001b[0m\u001b[0m\n\u001b[1;32m----> 2\u001b[1;33m \u001b[0mprofile\u001b[0m\u001b[1;33m.\u001b[0m\u001b[0mto_file\u001b[0m\u001b[1;33m(\u001b[0m\u001b[1;34m\"stem_hackaton.html\"\u001b[0m\u001b[1;33m)\u001b[0m\u001b[1;33m\u001b[0m\u001b[1;33m\u001b[0m\u001b[0m\n\u001b[0m",
      "\u001b[1;32m~\\anaconda3\\lib\\site-packages\\typeguard\\__init__.py\u001b[0m in \u001b[0;36mwrapper\u001b[1;34m(*args, **kwargs)\u001b[0m\n\u001b[0;32m   1031\u001b[0m         \u001b[0mmemo\u001b[0m \u001b[1;33m=\u001b[0m \u001b[0m_CallMemo\u001b[0m\u001b[1;33m(\u001b[0m\u001b[0mpython_func\u001b[0m\u001b[1;33m,\u001b[0m \u001b[0m_localns\u001b[0m\u001b[1;33m,\u001b[0m \u001b[0margs\u001b[0m\u001b[1;33m=\u001b[0m\u001b[0margs\u001b[0m\u001b[1;33m,\u001b[0m \u001b[0mkwargs\u001b[0m\u001b[1;33m=\u001b[0m\u001b[0mkwargs\u001b[0m\u001b[1;33m)\u001b[0m\u001b[1;33m\u001b[0m\u001b[1;33m\u001b[0m\u001b[0m\n\u001b[0;32m   1032\u001b[0m         \u001b[0mcheck_argument_types\u001b[0m\u001b[1;33m(\u001b[0m\u001b[0mmemo\u001b[0m\u001b[1;33m)\u001b[0m\u001b[1;33m\u001b[0m\u001b[1;33m\u001b[0m\u001b[0m\n\u001b[1;32m-> 1033\u001b[1;33m         \u001b[0mretval\u001b[0m \u001b[1;33m=\u001b[0m \u001b[0mfunc\u001b[0m\u001b[1;33m(\u001b[0m\u001b[1;33m*\u001b[0m\u001b[0margs\u001b[0m\u001b[1;33m,\u001b[0m \u001b[1;33m**\u001b[0m\u001b[0mkwargs\u001b[0m\u001b[1;33m)\u001b[0m\u001b[1;33m\u001b[0m\u001b[1;33m\u001b[0m\u001b[0m\n\u001b[0m\u001b[0;32m   1034\u001b[0m         \u001b[1;32mtry\u001b[0m\u001b[1;33m:\u001b[0m\u001b[1;33m\u001b[0m\u001b[1;33m\u001b[0m\u001b[0m\n\u001b[0;32m   1035\u001b[0m             \u001b[0mcheck_return_type\u001b[0m\u001b[1;33m(\u001b[0m\u001b[0mretval\u001b[0m\u001b[1;33m,\u001b[0m \u001b[0mmemo\u001b[0m\u001b[1;33m)\u001b[0m\u001b[1;33m\u001b[0m\u001b[1;33m\u001b[0m\u001b[0m\n",
      "\u001b[1;32m~\\anaconda3\\lib\\site-packages\\ydata_profiling\\profile_report.py\u001b[0m in \u001b[0;36mto_file\u001b[1;34m(self, output_file, silent)\u001b[0m\n\u001b[0;32m    351\u001b[0m                 \u001b[0mcreate_html_assets\u001b[0m\u001b[1;33m(\u001b[0m\u001b[0mself\u001b[0m\u001b[1;33m.\u001b[0m\u001b[0mconfig\u001b[0m\u001b[1;33m,\u001b[0m \u001b[0moutput_file\u001b[0m\u001b[1;33m)\u001b[0m\u001b[1;33m\u001b[0m\u001b[1;33m\u001b[0m\u001b[0m\n\u001b[0;32m    352\u001b[0m \u001b[1;33m\u001b[0m\u001b[0m\n\u001b[1;32m--> 353\u001b[1;33m             \u001b[0mdata\u001b[0m \u001b[1;33m=\u001b[0m \u001b[0mself\u001b[0m\u001b[1;33m.\u001b[0m\u001b[0mto_html\u001b[0m\u001b[1;33m(\u001b[0m\u001b[1;33m)\u001b[0m\u001b[1;33m\u001b[0m\u001b[1;33m\u001b[0m\u001b[0m\n\u001b[0m\u001b[0;32m    354\u001b[0m \u001b[1;33m\u001b[0m\u001b[0m\n\u001b[0;32m    355\u001b[0m             \u001b[1;32mif\u001b[0m \u001b[0moutput_file\u001b[0m\u001b[1;33m.\u001b[0m\u001b[0msuffix\u001b[0m \u001b[1;33m!=\u001b[0m \u001b[1;34m\".html\"\u001b[0m\u001b[1;33m:\u001b[0m\u001b[1;33m\u001b[0m\u001b[1;33m\u001b[0m\u001b[0m\n",
      "\u001b[1;32m~\\anaconda3\\lib\\site-packages\\typeguard\\__init__.py\u001b[0m in \u001b[0;36mwrapper\u001b[1;34m(*args, **kwargs)\u001b[0m\n\u001b[0;32m   1031\u001b[0m         \u001b[0mmemo\u001b[0m \u001b[1;33m=\u001b[0m \u001b[0m_CallMemo\u001b[0m\u001b[1;33m(\u001b[0m\u001b[0mpython_func\u001b[0m\u001b[1;33m,\u001b[0m \u001b[0m_localns\u001b[0m\u001b[1;33m,\u001b[0m \u001b[0margs\u001b[0m\u001b[1;33m=\u001b[0m\u001b[0margs\u001b[0m\u001b[1;33m,\u001b[0m \u001b[0mkwargs\u001b[0m\u001b[1;33m=\u001b[0m\u001b[0mkwargs\u001b[0m\u001b[1;33m)\u001b[0m\u001b[1;33m\u001b[0m\u001b[1;33m\u001b[0m\u001b[0m\n\u001b[0;32m   1032\u001b[0m         \u001b[0mcheck_argument_types\u001b[0m\u001b[1;33m(\u001b[0m\u001b[0mmemo\u001b[0m\u001b[1;33m)\u001b[0m\u001b[1;33m\u001b[0m\u001b[1;33m\u001b[0m\u001b[0m\n\u001b[1;32m-> 1033\u001b[1;33m         \u001b[0mretval\u001b[0m \u001b[1;33m=\u001b[0m \u001b[0mfunc\u001b[0m\u001b[1;33m(\u001b[0m\u001b[1;33m*\u001b[0m\u001b[0margs\u001b[0m\u001b[1;33m,\u001b[0m \u001b[1;33m**\u001b[0m\u001b[0mkwargs\u001b[0m\u001b[1;33m)\u001b[0m\u001b[1;33m\u001b[0m\u001b[1;33m\u001b[0m\u001b[0m\n\u001b[0m\u001b[0;32m   1034\u001b[0m         \u001b[1;32mtry\u001b[0m\u001b[1;33m:\u001b[0m\u001b[1;33m\u001b[0m\u001b[1;33m\u001b[0m\u001b[0m\n\u001b[0;32m   1035\u001b[0m             \u001b[0mcheck_return_type\u001b[0m\u001b[1;33m(\u001b[0m\u001b[0mretval\u001b[0m\u001b[1;33m,\u001b[0m \u001b[0mmemo\u001b[0m\u001b[1;33m)\u001b[0m\u001b[1;33m\u001b[0m\u001b[1;33m\u001b[0m\u001b[0m\n",
      "\u001b[1;32m~\\anaconda3\\lib\\site-packages\\ydata_profiling\\profile_report.py\u001b[0m in \u001b[0;36mto_html\u001b[1;34m(self)\u001b[0m\n\u001b[0;32m    466\u001b[0m \u001b[1;33m\u001b[0m\u001b[0m\n\u001b[0;32m    467\u001b[0m         \"\"\"\n\u001b[1;32m--> 468\u001b[1;33m         \u001b[1;32mreturn\u001b[0m \u001b[0mself\u001b[0m\u001b[1;33m.\u001b[0m\u001b[0mhtml\u001b[0m\u001b[1;33m\u001b[0m\u001b[1;33m\u001b[0m\u001b[0m\n\u001b[0m\u001b[0;32m    469\u001b[0m \u001b[1;33m\u001b[0m\u001b[0m\n\u001b[0;32m    470\u001b[0m     \u001b[1;32mdef\u001b[0m \u001b[0mto_json\u001b[0m\u001b[1;33m(\u001b[0m\u001b[0mself\u001b[0m\u001b[1;33m)\u001b[0m \u001b[1;33m->\u001b[0m \u001b[0mstr\u001b[0m\u001b[1;33m:\u001b[0m\u001b[1;33m\u001b[0m\u001b[1;33m\u001b[0m\u001b[0m\n",
      "\u001b[1;32m~\\anaconda3\\lib\\site-packages\\typeguard\\__init__.py\u001b[0m in \u001b[0;36mwrapper\u001b[1;34m(*args, **kwargs)\u001b[0m\n\u001b[0;32m   1031\u001b[0m         \u001b[0mmemo\u001b[0m \u001b[1;33m=\u001b[0m \u001b[0m_CallMemo\u001b[0m\u001b[1;33m(\u001b[0m\u001b[0mpython_func\u001b[0m\u001b[1;33m,\u001b[0m \u001b[0m_localns\u001b[0m\u001b[1;33m,\u001b[0m \u001b[0margs\u001b[0m\u001b[1;33m=\u001b[0m\u001b[0margs\u001b[0m\u001b[1;33m,\u001b[0m \u001b[0mkwargs\u001b[0m\u001b[1;33m=\u001b[0m\u001b[0mkwargs\u001b[0m\u001b[1;33m)\u001b[0m\u001b[1;33m\u001b[0m\u001b[1;33m\u001b[0m\u001b[0m\n\u001b[0;32m   1032\u001b[0m         \u001b[0mcheck_argument_types\u001b[0m\u001b[1;33m(\u001b[0m\u001b[0mmemo\u001b[0m\u001b[1;33m)\u001b[0m\u001b[1;33m\u001b[0m\u001b[1;33m\u001b[0m\u001b[0m\n\u001b[1;32m-> 1033\u001b[1;33m         \u001b[0mretval\u001b[0m \u001b[1;33m=\u001b[0m \u001b[0mfunc\u001b[0m\u001b[1;33m(\u001b[0m\u001b[1;33m*\u001b[0m\u001b[0margs\u001b[0m\u001b[1;33m,\u001b[0m \u001b[1;33m**\u001b[0m\u001b[0mkwargs\u001b[0m\u001b[1;33m)\u001b[0m\u001b[1;33m\u001b[0m\u001b[1;33m\u001b[0m\u001b[0m\n\u001b[0m\u001b[0;32m   1034\u001b[0m         \u001b[1;32mtry\u001b[0m\u001b[1;33m:\u001b[0m\u001b[1;33m\u001b[0m\u001b[1;33m\u001b[0m\u001b[0m\n\u001b[0;32m   1035\u001b[0m             \u001b[0mcheck_return_type\u001b[0m\u001b[1;33m(\u001b[0m\u001b[0mretval\u001b[0m\u001b[1;33m,\u001b[0m \u001b[0mmemo\u001b[0m\u001b[1;33m)\u001b[0m\u001b[1;33m\u001b[0m\u001b[1;33m\u001b[0m\u001b[0m\n",
      "\u001b[1;32m~\\anaconda3\\lib\\site-packages\\ydata_profiling\\profile_report.py\u001b[0m in \u001b[0;36mhtml\u001b[1;34m(self)\u001b[0m\n\u001b[0;32m    273\u001b[0m     \u001b[1;32mdef\u001b[0m \u001b[0mhtml\u001b[0m\u001b[1;33m(\u001b[0m\u001b[0mself\u001b[0m\u001b[1;33m)\u001b[0m \u001b[1;33m->\u001b[0m \u001b[0mstr\u001b[0m\u001b[1;33m:\u001b[0m\u001b[1;33m\u001b[0m\u001b[1;33m\u001b[0m\u001b[0m\n\u001b[0;32m    274\u001b[0m         \u001b[1;32mif\u001b[0m \u001b[0mself\u001b[0m\u001b[1;33m.\u001b[0m\u001b[0m_html\u001b[0m \u001b[1;32mis\u001b[0m \u001b[1;32mNone\u001b[0m\u001b[1;33m:\u001b[0m\u001b[1;33m\u001b[0m\u001b[1;33m\u001b[0m\u001b[0m\n\u001b[1;32m--> 275\u001b[1;33m             \u001b[0mself\u001b[0m\u001b[1;33m.\u001b[0m\u001b[0m_html\u001b[0m \u001b[1;33m=\u001b[0m \u001b[0mself\u001b[0m\u001b[1;33m.\u001b[0m\u001b[0m_render_html\u001b[0m\u001b[1;33m(\u001b[0m\u001b[1;33m)\u001b[0m\u001b[1;33m\u001b[0m\u001b[1;33m\u001b[0m\u001b[0m\n\u001b[0m\u001b[0;32m    276\u001b[0m         \u001b[1;32mreturn\u001b[0m \u001b[0mself\u001b[0m\u001b[1;33m.\u001b[0m\u001b[0m_html\u001b[0m\u001b[1;33m\u001b[0m\u001b[1;33m\u001b[0m\u001b[0m\n\u001b[0;32m    277\u001b[0m \u001b[1;33m\u001b[0m\u001b[0m\n",
      "\u001b[1;32m~\\anaconda3\\lib\\site-packages\\typeguard\\__init__.py\u001b[0m in \u001b[0;36mwrapper\u001b[1;34m(*args, **kwargs)\u001b[0m\n\u001b[0;32m   1031\u001b[0m         \u001b[0mmemo\u001b[0m \u001b[1;33m=\u001b[0m \u001b[0m_CallMemo\u001b[0m\u001b[1;33m(\u001b[0m\u001b[0mpython_func\u001b[0m\u001b[1;33m,\u001b[0m \u001b[0m_localns\u001b[0m\u001b[1;33m,\u001b[0m \u001b[0margs\u001b[0m\u001b[1;33m=\u001b[0m\u001b[0margs\u001b[0m\u001b[1;33m,\u001b[0m \u001b[0mkwargs\u001b[0m\u001b[1;33m=\u001b[0m\u001b[0mkwargs\u001b[0m\u001b[1;33m)\u001b[0m\u001b[1;33m\u001b[0m\u001b[1;33m\u001b[0m\u001b[0m\n\u001b[0;32m   1032\u001b[0m         \u001b[0mcheck_argument_types\u001b[0m\u001b[1;33m(\u001b[0m\u001b[0mmemo\u001b[0m\u001b[1;33m)\u001b[0m\u001b[1;33m\u001b[0m\u001b[1;33m\u001b[0m\u001b[0m\n\u001b[1;32m-> 1033\u001b[1;33m         \u001b[0mretval\u001b[0m \u001b[1;33m=\u001b[0m \u001b[0mfunc\u001b[0m\u001b[1;33m(\u001b[0m\u001b[1;33m*\u001b[0m\u001b[0margs\u001b[0m\u001b[1;33m,\u001b[0m \u001b[1;33m**\u001b[0m\u001b[0mkwargs\u001b[0m\u001b[1;33m)\u001b[0m\u001b[1;33m\u001b[0m\u001b[1;33m\u001b[0m\u001b[0m\n\u001b[0m\u001b[0;32m   1034\u001b[0m         \u001b[1;32mtry\u001b[0m\u001b[1;33m:\u001b[0m\u001b[1;33m\u001b[0m\u001b[1;33m\u001b[0m\u001b[0m\n\u001b[0;32m   1035\u001b[0m             \u001b[0mcheck_return_type\u001b[0m\u001b[1;33m(\u001b[0m\u001b[0mretval\u001b[0m\u001b[1;33m,\u001b[0m \u001b[0mmemo\u001b[0m\u001b[1;33m)\u001b[0m\u001b[1;33m\u001b[0m\u001b[1;33m\u001b[0m\u001b[0m\n",
      "\u001b[1;32m~\\anaconda3\\lib\\site-packages\\ydata_profiling\\profile_report.py\u001b[0m in \u001b[0;36m_render_html\u001b[1;34m(self)\u001b[0m\n\u001b[0;32m    381\u001b[0m         \u001b[1;32mfrom\u001b[0m \u001b[0mydata_profiling\u001b[0m\u001b[1;33m.\u001b[0m\u001b[0mreport\u001b[0m\u001b[1;33m.\u001b[0m\u001b[0mpresentation\u001b[0m\u001b[1;33m.\u001b[0m\u001b[0mflavours\u001b[0m \u001b[1;32mimport\u001b[0m \u001b[0mHTMLReport\u001b[0m\u001b[1;33m\u001b[0m\u001b[1;33m\u001b[0m\u001b[0m\n\u001b[0;32m    382\u001b[0m \u001b[1;33m\u001b[0m\u001b[0m\n\u001b[1;32m--> 383\u001b[1;33m         \u001b[0mreport\u001b[0m \u001b[1;33m=\u001b[0m \u001b[0mself\u001b[0m\u001b[1;33m.\u001b[0m\u001b[0mreport\u001b[0m\u001b[1;33m\u001b[0m\u001b[1;33m\u001b[0m\u001b[0m\n\u001b[0m\u001b[0;32m    384\u001b[0m \u001b[1;33m\u001b[0m\u001b[0m\n\u001b[0;32m    385\u001b[0m         with tqdm(\n",
      "\u001b[1;32m~\\anaconda3\\lib\\site-packages\\typeguard\\__init__.py\u001b[0m in \u001b[0;36mwrapper\u001b[1;34m(*args, **kwargs)\u001b[0m\n\u001b[0;32m   1031\u001b[0m         \u001b[0mmemo\u001b[0m \u001b[1;33m=\u001b[0m \u001b[0m_CallMemo\u001b[0m\u001b[1;33m(\u001b[0m\u001b[0mpython_func\u001b[0m\u001b[1;33m,\u001b[0m \u001b[0m_localns\u001b[0m\u001b[1;33m,\u001b[0m \u001b[0margs\u001b[0m\u001b[1;33m=\u001b[0m\u001b[0margs\u001b[0m\u001b[1;33m,\u001b[0m \u001b[0mkwargs\u001b[0m\u001b[1;33m=\u001b[0m\u001b[0mkwargs\u001b[0m\u001b[1;33m)\u001b[0m\u001b[1;33m\u001b[0m\u001b[1;33m\u001b[0m\u001b[0m\n\u001b[0;32m   1032\u001b[0m         \u001b[0mcheck_argument_types\u001b[0m\u001b[1;33m(\u001b[0m\u001b[0mmemo\u001b[0m\u001b[1;33m)\u001b[0m\u001b[1;33m\u001b[0m\u001b[1;33m\u001b[0m\u001b[0m\n\u001b[1;32m-> 1033\u001b[1;33m         \u001b[0mretval\u001b[0m \u001b[1;33m=\u001b[0m \u001b[0mfunc\u001b[0m\u001b[1;33m(\u001b[0m\u001b[1;33m*\u001b[0m\u001b[0margs\u001b[0m\u001b[1;33m,\u001b[0m \u001b[1;33m**\u001b[0m\u001b[0mkwargs\u001b[0m\u001b[1;33m)\u001b[0m\u001b[1;33m\u001b[0m\u001b[1;33m\u001b[0m\u001b[0m\n\u001b[0m\u001b[0;32m   1034\u001b[0m         \u001b[1;32mtry\u001b[0m\u001b[1;33m:\u001b[0m\u001b[1;33m\u001b[0m\u001b[1;33m\u001b[0m\u001b[0m\n\u001b[0;32m   1035\u001b[0m             \u001b[0mcheck_return_type\u001b[0m\u001b[1;33m(\u001b[0m\u001b[0mretval\u001b[0m\u001b[1;33m,\u001b[0m \u001b[0mmemo\u001b[0m\u001b[1;33m)\u001b[0m\u001b[1;33m\u001b[0m\u001b[1;33m\u001b[0m\u001b[0m\n",
      "\u001b[1;32m~\\anaconda3\\lib\\site-packages\\ydata_profiling\\profile_report.py\u001b[0m in \u001b[0;36mreport\u001b[1;34m(self)\u001b[0m\n\u001b[0;32m    267\u001b[0m     \u001b[1;32mdef\u001b[0m \u001b[0mreport\u001b[0m\u001b[1;33m(\u001b[0m\u001b[0mself\u001b[0m\u001b[1;33m)\u001b[0m \u001b[1;33m->\u001b[0m \u001b[0mRoot\u001b[0m\u001b[1;33m:\u001b[0m\u001b[1;33m\u001b[0m\u001b[1;33m\u001b[0m\u001b[0m\n\u001b[0;32m    268\u001b[0m         \u001b[1;32mif\u001b[0m \u001b[0mself\u001b[0m\u001b[1;33m.\u001b[0m\u001b[0m_report\u001b[0m \u001b[1;32mis\u001b[0m \u001b[1;32mNone\u001b[0m\u001b[1;33m:\u001b[0m\u001b[1;33m\u001b[0m\u001b[1;33m\u001b[0m\u001b[0m\n\u001b[1;32m--> 269\u001b[1;33m             \u001b[0mself\u001b[0m\u001b[1;33m.\u001b[0m\u001b[0m_report\u001b[0m \u001b[1;33m=\u001b[0m \u001b[0mget_report_structure\u001b[0m\u001b[1;33m(\u001b[0m\u001b[0mself\u001b[0m\u001b[1;33m.\u001b[0m\u001b[0mconfig\u001b[0m\u001b[1;33m,\u001b[0m \u001b[0mself\u001b[0m\u001b[1;33m.\u001b[0m\u001b[0mdescription_set\u001b[0m\u001b[1;33m)\u001b[0m\u001b[1;33m\u001b[0m\u001b[1;33m\u001b[0m\u001b[0m\n\u001b[0m\u001b[0;32m    270\u001b[0m         \u001b[1;32mreturn\u001b[0m \u001b[0mself\u001b[0m\u001b[1;33m.\u001b[0m\u001b[0m_report\u001b[0m\u001b[1;33m\u001b[0m\u001b[1;33m\u001b[0m\u001b[0m\n\u001b[0;32m    271\u001b[0m \u001b[1;33m\u001b[0m\u001b[0m\n",
      "\u001b[1;32m~\\anaconda3\\lib\\site-packages\\ydata_profiling\\report\\structure\\report.py\u001b[0m in \u001b[0;36mget_report_structure\u001b[1;34m(config, summary)\u001b[0m\n\u001b[0;32m    384\u001b[0m                     \u001b[0mitems\u001b[0m\u001b[1;33m=\u001b[0m\u001b[0mlist\u001b[0m\u001b[1;33m(\u001b[0m\u001b[0msummary\u001b[0m\u001b[1;33m.\u001b[0m\u001b[0mvariables\u001b[0m\u001b[1;33m)\u001b[0m\u001b[1;33m,\u001b[0m\u001b[1;33m\u001b[0m\u001b[1;33m\u001b[0m\u001b[0m\n\u001b[0;32m    385\u001b[0m                     item=Container(\n\u001b[1;32m--> 386\u001b[1;33m                         \u001b[0mrender_variables_section\u001b[0m\u001b[1;33m(\u001b[0m\u001b[0mconfig\u001b[0m\u001b[1;33m,\u001b[0m \u001b[0msummary\u001b[0m\u001b[1;33m)\u001b[0m\u001b[1;33m,\u001b[0m\u001b[1;33m\u001b[0m\u001b[1;33m\u001b[0m\u001b[0m\n\u001b[0m\u001b[0;32m    387\u001b[0m                         \u001b[0msequence_type\u001b[0m\u001b[1;33m=\u001b[0m\u001b[1;34m\"accordion\"\u001b[0m\u001b[1;33m,\u001b[0m\u001b[1;33m\u001b[0m\u001b[1;33m\u001b[0m\u001b[0m\n\u001b[0;32m    388\u001b[0m                         \u001b[0mname\u001b[0m\u001b[1;33m=\u001b[0m\u001b[1;34m\"Variables\"\u001b[0m\u001b[1;33m,\u001b[0m\u001b[1;33m\u001b[0m\u001b[1;33m\u001b[0m\u001b[0m\n",
      "\u001b[1;32m~\\anaconda3\\lib\\site-packages\\ydata_profiling\\report\\structure\\report.py\u001b[0m in \u001b[0;36mrender_variables_section\u001b[1;34m(config, dataframe_summary)\u001b[0m\n\u001b[0;32m    159\u001b[0m             \u001b[0mvariable_type\u001b[0m \u001b[1;33m=\u001b[0m \u001b[0msummary\u001b[0m\u001b[1;33m[\u001b[0m\u001b[1;34m\"type\"\u001b[0m\u001b[1;33m]\u001b[0m\u001b[1;33m\u001b[0m\u001b[1;33m\u001b[0m\u001b[0m\n\u001b[0;32m    160\u001b[0m         \u001b[0mrender_map_type\u001b[0m \u001b[1;33m=\u001b[0m \u001b[0mrender_map\u001b[0m\u001b[1;33m.\u001b[0m\u001b[0mget\u001b[0m\u001b[1;33m(\u001b[0m\u001b[0mvariable_type\u001b[0m\u001b[1;33m,\u001b[0m \u001b[0mrender_map\u001b[0m\u001b[1;33m[\u001b[0m\u001b[1;34m\"Unsupported\"\u001b[0m\u001b[1;33m]\u001b[0m\u001b[1;33m)\u001b[0m\u001b[1;33m\u001b[0m\u001b[1;33m\u001b[0m\u001b[0m\n\u001b[1;32m--> 161\u001b[1;33m         \u001b[0mtemplate_variables\u001b[0m\u001b[1;33m.\u001b[0m\u001b[0mupdate\u001b[0m\u001b[1;33m(\u001b[0m\u001b[0mrender_map_type\u001b[0m\u001b[1;33m(\u001b[0m\u001b[0mconfig\u001b[0m\u001b[1;33m,\u001b[0m \u001b[0mtemplate_variables\u001b[0m\u001b[1;33m)\u001b[0m\u001b[1;33m)\u001b[0m\u001b[1;33m\u001b[0m\u001b[1;33m\u001b[0m\u001b[0m\n\u001b[0m\u001b[0;32m    162\u001b[0m \u001b[1;33m\u001b[0m\u001b[0m\n\u001b[0;32m    163\u001b[0m         \u001b[1;31m# Ignore these\u001b[0m\u001b[1;33m\u001b[0m\u001b[1;33m\u001b[0m\u001b[0m\n",
      "\u001b[1;32m~\\anaconda3\\lib\\site-packages\\ydata_profiling\\report\\structure\\variables\\render_text.py\u001b[0m in \u001b[0;36mrender_text\u001b[1;34m(config, summary)\u001b[0m\n\u001b[0;32m     74\u001b[0m     \u001b[1;32mif\u001b[0m \u001b[0mwords\u001b[0m \u001b[1;32mand\u001b[0m \u001b[1;34m\"word_counts\"\u001b[0m \u001b[1;32min\u001b[0m \u001b[0msummary\u001b[0m\u001b[1;33m:\u001b[0m\u001b[1;33m\u001b[0m\u001b[1;33m\u001b[0m\u001b[0m\n\u001b[0;32m     75\u001b[0m         mini_wordcloud = Image(\n\u001b[1;32m---> 76\u001b[1;33m             \u001b[0mplot_word_cloud\u001b[0m\u001b[1;33m(\u001b[0m\u001b[0mconfig\u001b[0m\u001b[1;33m,\u001b[0m \u001b[0msummary\u001b[0m\u001b[1;33m[\u001b[0m\u001b[1;34m\"word_counts\"\u001b[0m\u001b[1;33m]\u001b[0m\u001b[1;33m)\u001b[0m\u001b[1;33m,\u001b[0m\u001b[1;33m\u001b[0m\u001b[1;33m\u001b[0m\u001b[0m\n\u001b[0m\u001b[0;32m     77\u001b[0m             \u001b[0mimage_format\u001b[0m\u001b[1;33m=\u001b[0m\u001b[0mconfig\u001b[0m\u001b[1;33m.\u001b[0m\u001b[0mplot\u001b[0m\u001b[1;33m.\u001b[0m\u001b[0mimage_format\u001b[0m\u001b[1;33m,\u001b[0m\u001b[1;33m\u001b[0m\u001b[1;33m\u001b[0m\u001b[0m\n\u001b[0;32m     78\u001b[0m             \u001b[0malt\u001b[0m\u001b[1;33m=\u001b[0m\u001b[1;34m\"Mini wordcloud\"\u001b[0m\u001b[1;33m,\u001b[0m\u001b[1;33m\u001b[0m\u001b[1;33m\u001b[0m\u001b[0m\n",
      "\u001b[1;32m~\\anaconda3\\lib\\contextlib.py\u001b[0m in \u001b[0;36minner\u001b[1;34m(*args, **kwds)\u001b[0m\n\u001b[0;32m     77\u001b[0m         \u001b[1;32mdef\u001b[0m \u001b[0minner\u001b[0m\u001b[1;33m(\u001b[0m\u001b[1;33m*\u001b[0m\u001b[0margs\u001b[0m\u001b[1;33m,\u001b[0m \u001b[1;33m**\u001b[0m\u001b[0mkwds\u001b[0m\u001b[1;33m)\u001b[0m\u001b[1;33m:\u001b[0m\u001b[1;33m\u001b[0m\u001b[1;33m\u001b[0m\u001b[0m\n\u001b[0;32m     78\u001b[0m             \u001b[1;32mwith\u001b[0m \u001b[0mself\u001b[0m\u001b[1;33m.\u001b[0m\u001b[0m_recreate_cm\u001b[0m\u001b[1;33m(\u001b[0m\u001b[1;33m)\u001b[0m\u001b[1;33m:\u001b[0m\u001b[1;33m\u001b[0m\u001b[1;33m\u001b[0m\u001b[0m\n\u001b[1;32m---> 79\u001b[1;33m                 \u001b[1;32mreturn\u001b[0m \u001b[0mfunc\u001b[0m\u001b[1;33m(\u001b[0m\u001b[1;33m*\u001b[0m\u001b[0margs\u001b[0m\u001b[1;33m,\u001b[0m \u001b[1;33m**\u001b[0m\u001b[0mkwds\u001b[0m\u001b[1;33m)\u001b[0m\u001b[1;33m\u001b[0m\u001b[1;33m\u001b[0m\u001b[0m\n\u001b[0m\u001b[0;32m     80\u001b[0m         \u001b[1;32mreturn\u001b[0m \u001b[0minner\u001b[0m\u001b[1;33m\u001b[0m\u001b[1;33m\u001b[0m\u001b[0m\n\u001b[0;32m     81\u001b[0m \u001b[1;33m\u001b[0m\u001b[0m\n",
      "\u001b[1;32m~\\anaconda3\\lib\\site-packages\\ydata_profiling\\visualisation\\plot.py\u001b[0m in \u001b[0;36mplot_word_cloud\u001b[1;34m(config, word_counts)\u001b[0m\n\u001b[0;32m    117\u001b[0m \u001b[1;33m@\u001b[0m\u001b[0mmanage_matplotlib_context\u001b[0m\u001b[1;33m(\u001b[0m\u001b[1;33m)\u001b[0m\u001b[1;33m\u001b[0m\u001b[1;33m\u001b[0m\u001b[0m\n\u001b[0;32m    118\u001b[0m \u001b[1;32mdef\u001b[0m \u001b[0mplot_word_cloud\u001b[0m\u001b[1;33m(\u001b[0m\u001b[0mconfig\u001b[0m\u001b[1;33m:\u001b[0m \u001b[0mSettings\u001b[0m\u001b[1;33m,\u001b[0m \u001b[0mword_counts\u001b[0m\u001b[1;33m:\u001b[0m \u001b[0mpd\u001b[0m\u001b[1;33m.\u001b[0m\u001b[0mSeries\u001b[0m\u001b[1;33m)\u001b[0m \u001b[1;33m->\u001b[0m \u001b[0mstr\u001b[0m\u001b[1;33m:\u001b[0m\u001b[1;33m\u001b[0m\u001b[1;33m\u001b[0m\u001b[0m\n\u001b[1;32m--> 119\u001b[1;33m     \u001b[0m_plot_word_cloud\u001b[0m\u001b[1;33m(\u001b[0m\u001b[0mseries\u001b[0m\u001b[1;33m=\u001b[0m\u001b[0mword_counts\u001b[0m\u001b[1;33m)\u001b[0m\u001b[1;33m\u001b[0m\u001b[1;33m\u001b[0m\u001b[0m\n\u001b[0m\u001b[0;32m    120\u001b[0m     \u001b[1;32mreturn\u001b[0m \u001b[0mplot_360_n0sc0pe\u001b[0m\u001b[1;33m(\u001b[0m\u001b[0mconfig\u001b[0m\u001b[1;33m)\u001b[0m\u001b[1;33m\u001b[0m\u001b[1;33m\u001b[0m\u001b[0m\n\u001b[0;32m    121\u001b[0m \u001b[1;33m\u001b[0m\u001b[0m\n",
      "\u001b[1;32m~\\anaconda3\\lib\\site-packages\\ydata_profiling\\visualisation\\plot.py\u001b[0m in \u001b[0;36m_plot_word_cloud\u001b[1;34m(series, figsize)\u001b[0m\n\u001b[0;32m     35\u001b[0m     ).generate_from_frequencies(word_dict)\n\u001b[0;32m     36\u001b[0m     \u001b[0mplt\u001b[0m\u001b[1;33m.\u001b[0m\u001b[0mfigure\u001b[0m\u001b[1;33m(\u001b[0m\u001b[0mfigsize\u001b[0m\u001b[1;33m=\u001b[0m\u001b[0mfigsize\u001b[0m\u001b[1;33m)\u001b[0m\u001b[1;33m\u001b[0m\u001b[1;33m\u001b[0m\u001b[0m\n\u001b[1;32m---> 37\u001b[1;33m     \u001b[0mplot\u001b[0m \u001b[1;33m=\u001b[0m \u001b[0mplt\u001b[0m\u001b[1;33m.\u001b[0m\u001b[0mimshow\u001b[0m\u001b[1;33m(\u001b[0m\u001b[0mwordcloud\u001b[0m\u001b[1;33m,\u001b[0m \u001b[0minterpolation\u001b[0m\u001b[1;33m=\u001b[0m\u001b[1;34m\"bilinear\"\u001b[0m\u001b[1;33m)\u001b[0m\u001b[1;33m\u001b[0m\u001b[1;33m\u001b[0m\u001b[0m\n\u001b[0m\u001b[0;32m     38\u001b[0m     \u001b[0mplt\u001b[0m\u001b[1;33m.\u001b[0m\u001b[0maxis\u001b[0m\u001b[1;33m(\u001b[0m\u001b[1;34m\"off\"\u001b[0m\u001b[1;33m)\u001b[0m\u001b[1;33m\u001b[0m\u001b[1;33m\u001b[0m\u001b[0m\n\u001b[0;32m     39\u001b[0m     \u001b[1;32mreturn\u001b[0m \u001b[0mplot\u001b[0m\u001b[1;33m\u001b[0m\u001b[1;33m\u001b[0m\u001b[0m\n",
      "\u001b[1;32m~\\anaconda3\\lib\\site-packages\\matplotlib\\_api\\deprecation.py\u001b[0m in \u001b[0;36mwrapper\u001b[1;34m(*args, **kwargs)\u001b[0m\n\u001b[0;32m    457\u001b[0m                 \u001b[1;34m\"parameter will become keyword-only %(removal)s.\"\u001b[0m\u001b[1;33m,\u001b[0m\u001b[1;33m\u001b[0m\u001b[1;33m\u001b[0m\u001b[0m\n\u001b[0;32m    458\u001b[0m                 name=name, obj_type=f\"parameter of {func.__name__}()\")\n\u001b[1;32m--> 459\u001b[1;33m         \u001b[1;32mreturn\u001b[0m \u001b[0mfunc\u001b[0m\u001b[1;33m(\u001b[0m\u001b[1;33m*\u001b[0m\u001b[0margs\u001b[0m\u001b[1;33m,\u001b[0m \u001b[1;33m**\u001b[0m\u001b[0mkwargs\u001b[0m\u001b[1;33m)\u001b[0m\u001b[1;33m\u001b[0m\u001b[1;33m\u001b[0m\u001b[0m\n\u001b[0m\u001b[0;32m    460\u001b[0m \u001b[1;33m\u001b[0m\u001b[0m\n\u001b[0;32m    461\u001b[0m     \u001b[1;31m# Don't modify *func*'s signature, as boilerplate.py needs it.\u001b[0m\u001b[1;33m\u001b[0m\u001b[1;33m\u001b[0m\u001b[0m\n",
      "\u001b[1;32m~\\anaconda3\\lib\\site-packages\\matplotlib\\pyplot.py\u001b[0m in \u001b[0;36mimshow\u001b[1;34m(X, cmap, norm, aspect, interpolation, alpha, vmin, vmax, origin, extent, interpolation_stage, filternorm, filterrad, resample, url, data, **kwargs)\u001b[0m\n\u001b[0;32m   2650\u001b[0m         \u001b[0minterpolation_stage\u001b[0m\u001b[1;33m=\u001b[0m\u001b[1;32mNone\u001b[0m\u001b[1;33m,\u001b[0m \u001b[0mfilternorm\u001b[0m\u001b[1;33m=\u001b[0m\u001b[1;32mTrue\u001b[0m\u001b[1;33m,\u001b[0m \u001b[0mfilterrad\u001b[0m\u001b[1;33m=\u001b[0m\u001b[1;36m4.0\u001b[0m\u001b[1;33m,\u001b[0m\u001b[1;33m\u001b[0m\u001b[1;33m\u001b[0m\u001b[0m\n\u001b[0;32m   2651\u001b[0m         resample=None, url=None, data=None, **kwargs):\n\u001b[1;32m-> 2652\u001b[1;33m     __ret = gca().imshow(\n\u001b[0m\u001b[0;32m   2653\u001b[0m         \u001b[0mX\u001b[0m\u001b[1;33m,\u001b[0m \u001b[0mcmap\u001b[0m\u001b[1;33m=\u001b[0m\u001b[0mcmap\u001b[0m\u001b[1;33m,\u001b[0m \u001b[0mnorm\u001b[0m\u001b[1;33m=\u001b[0m\u001b[0mnorm\u001b[0m\u001b[1;33m,\u001b[0m \u001b[0maspect\u001b[0m\u001b[1;33m=\u001b[0m\u001b[0maspect\u001b[0m\u001b[1;33m,\u001b[0m\u001b[1;33m\u001b[0m\u001b[1;33m\u001b[0m\u001b[0m\n\u001b[0;32m   2654\u001b[0m         \u001b[0minterpolation\u001b[0m\u001b[1;33m=\u001b[0m\u001b[0minterpolation\u001b[0m\u001b[1;33m,\u001b[0m \u001b[0malpha\u001b[0m\u001b[1;33m=\u001b[0m\u001b[0malpha\u001b[0m\u001b[1;33m,\u001b[0m \u001b[0mvmin\u001b[0m\u001b[1;33m=\u001b[0m\u001b[0mvmin\u001b[0m\u001b[1;33m,\u001b[0m\u001b[1;33m\u001b[0m\u001b[1;33m\u001b[0m\u001b[0m\n",
      "\u001b[1;32m~\\anaconda3\\lib\\site-packages\\matplotlib\\_api\\deprecation.py\u001b[0m in \u001b[0;36mwrapper\u001b[1;34m(*args, **kwargs)\u001b[0m\n\u001b[0;32m    457\u001b[0m                 \u001b[1;34m\"parameter will become keyword-only %(removal)s.\"\u001b[0m\u001b[1;33m,\u001b[0m\u001b[1;33m\u001b[0m\u001b[1;33m\u001b[0m\u001b[0m\n\u001b[0;32m    458\u001b[0m                 name=name, obj_type=f\"parameter of {func.__name__}()\")\n\u001b[1;32m--> 459\u001b[1;33m         \u001b[1;32mreturn\u001b[0m \u001b[0mfunc\u001b[0m\u001b[1;33m(\u001b[0m\u001b[1;33m*\u001b[0m\u001b[0margs\u001b[0m\u001b[1;33m,\u001b[0m \u001b[1;33m**\u001b[0m\u001b[0mkwargs\u001b[0m\u001b[1;33m)\u001b[0m\u001b[1;33m\u001b[0m\u001b[1;33m\u001b[0m\u001b[0m\n\u001b[0m\u001b[0;32m    460\u001b[0m \u001b[1;33m\u001b[0m\u001b[0m\n\u001b[0;32m    461\u001b[0m     \u001b[1;31m# Don't modify *func*'s signature, as boilerplate.py needs it.\u001b[0m\u001b[1;33m\u001b[0m\u001b[1;33m\u001b[0m\u001b[0m\n",
      "\u001b[1;32m~\\anaconda3\\lib\\site-packages\\matplotlib\\__init__.py\u001b[0m in \u001b[0;36minner\u001b[1;34m(ax, data, *args, **kwargs)\u001b[0m\n\u001b[0;32m   1410\u001b[0m     \u001b[1;32mdef\u001b[0m \u001b[0minner\u001b[0m\u001b[1;33m(\u001b[0m\u001b[0max\u001b[0m\u001b[1;33m,\u001b[0m \u001b[1;33m*\u001b[0m\u001b[0margs\u001b[0m\u001b[1;33m,\u001b[0m \u001b[0mdata\u001b[0m\u001b[1;33m=\u001b[0m\u001b[1;32mNone\u001b[0m\u001b[1;33m,\u001b[0m \u001b[1;33m**\u001b[0m\u001b[0mkwargs\u001b[0m\u001b[1;33m)\u001b[0m\u001b[1;33m:\u001b[0m\u001b[1;33m\u001b[0m\u001b[1;33m\u001b[0m\u001b[0m\n\u001b[0;32m   1411\u001b[0m         \u001b[1;32mif\u001b[0m \u001b[0mdata\u001b[0m \u001b[1;32mis\u001b[0m \u001b[1;32mNone\u001b[0m\u001b[1;33m:\u001b[0m\u001b[1;33m\u001b[0m\u001b[1;33m\u001b[0m\u001b[0m\n\u001b[1;32m-> 1412\u001b[1;33m             \u001b[1;32mreturn\u001b[0m \u001b[0mfunc\u001b[0m\u001b[1;33m(\u001b[0m\u001b[0max\u001b[0m\u001b[1;33m,\u001b[0m \u001b[1;33m*\u001b[0m\u001b[0mmap\u001b[0m\u001b[1;33m(\u001b[0m\u001b[0msanitize_sequence\u001b[0m\u001b[1;33m,\u001b[0m \u001b[0margs\u001b[0m\u001b[1;33m)\u001b[0m\u001b[1;33m,\u001b[0m \u001b[1;33m**\u001b[0m\u001b[0mkwargs\u001b[0m\u001b[1;33m)\u001b[0m\u001b[1;33m\u001b[0m\u001b[1;33m\u001b[0m\u001b[0m\n\u001b[0m\u001b[0;32m   1413\u001b[0m \u001b[1;33m\u001b[0m\u001b[0m\n\u001b[0;32m   1414\u001b[0m         \u001b[0mbound\u001b[0m \u001b[1;33m=\u001b[0m \u001b[0mnew_sig\u001b[0m\u001b[1;33m.\u001b[0m\u001b[0mbind\u001b[0m\u001b[1;33m(\u001b[0m\u001b[0max\u001b[0m\u001b[1;33m,\u001b[0m \u001b[1;33m*\u001b[0m\u001b[0margs\u001b[0m\u001b[1;33m,\u001b[0m \u001b[1;33m**\u001b[0m\u001b[0mkwargs\u001b[0m\u001b[1;33m)\u001b[0m\u001b[1;33m\u001b[0m\u001b[1;33m\u001b[0m\u001b[0m\n",
      "\u001b[1;32m~\\anaconda3\\lib\\site-packages\\matplotlib\\axes\\_axes.py\u001b[0m in \u001b[0;36mimshow\u001b[1;34m(self, X, cmap, norm, aspect, interpolation, alpha, vmin, vmax, origin, extent, interpolation_stage, filternorm, filterrad, resample, url, **kwargs)\u001b[0m\n\u001b[0;32m   5484\u001b[0m             \u001b[1;31m# image does not already have clipping set, clip to axes patch\u001b[0m\u001b[1;33m\u001b[0m\u001b[1;33m\u001b[0m\u001b[0m\n\u001b[0;32m   5485\u001b[0m             \u001b[0mim\u001b[0m\u001b[1;33m.\u001b[0m\u001b[0mset_clip_path\u001b[0m\u001b[1;33m(\u001b[0m\u001b[0mself\u001b[0m\u001b[1;33m.\u001b[0m\u001b[0mpatch\u001b[0m\u001b[1;33m)\u001b[0m\u001b[1;33m\u001b[0m\u001b[1;33m\u001b[0m\u001b[0m\n\u001b[1;32m-> 5486\u001b[1;33m         \u001b[0mim\u001b[0m\u001b[1;33m.\u001b[0m\u001b[0m_scale_norm\u001b[0m\u001b[1;33m(\u001b[0m\u001b[0mnorm\u001b[0m\u001b[1;33m,\u001b[0m \u001b[0mvmin\u001b[0m\u001b[1;33m,\u001b[0m \u001b[0mvmax\u001b[0m\u001b[1;33m)\u001b[0m\u001b[1;33m\u001b[0m\u001b[1;33m\u001b[0m\u001b[0m\n\u001b[0m\u001b[0;32m   5487\u001b[0m         \u001b[0mim\u001b[0m\u001b[1;33m.\u001b[0m\u001b[0mset_url\u001b[0m\u001b[1;33m(\u001b[0m\u001b[0murl\u001b[0m\u001b[1;33m)\u001b[0m\u001b[1;33m\u001b[0m\u001b[1;33m\u001b[0m\u001b[0m\n\u001b[0;32m   5488\u001b[0m \u001b[1;33m\u001b[0m\u001b[0m\n",
      "\u001b[1;32m~\\anaconda3\\lib\\site-packages\\matplotlib\\cm.py\u001b[0m in \u001b[0;36m_scale_norm\u001b[1;34m(self, norm, vmin, vmax)\u001b[0m\n\u001b[0;32m    385\u001b[0m         \u001b[1;31m# always resolve the autoscaling so we have concrete limits\u001b[0m\u001b[1;33m\u001b[0m\u001b[1;33m\u001b[0m\u001b[0m\n\u001b[0;32m    386\u001b[0m         \u001b[1;31m# rather than deferring to draw time.\u001b[0m\u001b[1;33m\u001b[0m\u001b[1;33m\u001b[0m\u001b[0m\n\u001b[1;32m--> 387\u001b[1;33m         \u001b[0mself\u001b[0m\u001b[1;33m.\u001b[0m\u001b[0mautoscale_None\u001b[0m\u001b[1;33m(\u001b[0m\u001b[1;33m)\u001b[0m\u001b[1;33m\u001b[0m\u001b[1;33m\u001b[0m\u001b[0m\n\u001b[0m\u001b[0;32m    388\u001b[0m \u001b[1;33m\u001b[0m\u001b[0m\n\u001b[0;32m    389\u001b[0m     \u001b[1;32mdef\u001b[0m \u001b[0mto_rgba\u001b[0m\u001b[1;33m(\u001b[0m\u001b[0mself\u001b[0m\u001b[1;33m,\u001b[0m \u001b[0mx\u001b[0m\u001b[1;33m,\u001b[0m \u001b[0malpha\u001b[0m\u001b[1;33m=\u001b[0m\u001b[1;32mNone\u001b[0m\u001b[1;33m,\u001b[0m \u001b[0mbytes\u001b[0m\u001b[1;33m=\u001b[0m\u001b[1;32mFalse\u001b[0m\u001b[1;33m,\u001b[0m \u001b[0mnorm\u001b[0m\u001b[1;33m=\u001b[0m\u001b[1;32mTrue\u001b[0m\u001b[1;33m)\u001b[0m\u001b[1;33m:\u001b[0m\u001b[1;33m\u001b[0m\u001b[1;33m\u001b[0m\u001b[0m\n",
      "\u001b[1;32m~\\anaconda3\\lib\\site-packages\\matplotlib\\cm.py\u001b[0m in \u001b[0;36mautoscale_None\u001b[1;34m(self)\u001b[0m\n\u001b[0;32m    609\u001b[0m         \u001b[1;31m# If the norm's limits are updated self.changed() will be called\u001b[0m\u001b[1;33m\u001b[0m\u001b[1;33m\u001b[0m\u001b[0m\n\u001b[0;32m    610\u001b[0m         \u001b[1;31m# through the callbacks attached to the norm\u001b[0m\u001b[1;33m\u001b[0m\u001b[1;33m\u001b[0m\u001b[0m\n\u001b[1;32m--> 611\u001b[1;33m         \u001b[0mself\u001b[0m\u001b[1;33m.\u001b[0m\u001b[0mnorm\u001b[0m\u001b[1;33m.\u001b[0m\u001b[0mautoscale_None\u001b[0m\u001b[1;33m(\u001b[0m\u001b[0mself\u001b[0m\u001b[1;33m.\u001b[0m\u001b[0m_A\u001b[0m\u001b[1;33m)\u001b[0m\u001b[1;33m\u001b[0m\u001b[1;33m\u001b[0m\u001b[0m\n\u001b[0m\u001b[0;32m    612\u001b[0m \u001b[1;33m\u001b[0m\u001b[0m\n\u001b[0;32m    613\u001b[0m     \u001b[1;32mdef\u001b[0m \u001b[0mchanged\u001b[0m\u001b[1;33m(\u001b[0m\u001b[0mself\u001b[0m\u001b[1;33m)\u001b[0m\u001b[1;33m:\u001b[0m\u001b[1;33m\u001b[0m\u001b[1;33m\u001b[0m\u001b[0m\n",
      "\u001b[1;32m~\\anaconda3\\lib\\site-packages\\matplotlib\\colors.py\u001b[0m in \u001b[0;36mautoscale_None\u001b[1;34m(self, A)\u001b[0m\n\u001b[0;32m   1280\u001b[0m         \u001b[0mA\u001b[0m \u001b[1;33m=\u001b[0m \u001b[0mnp\u001b[0m\u001b[1;33m.\u001b[0m\u001b[0masanyarray\u001b[0m\u001b[1;33m(\u001b[0m\u001b[0mA\u001b[0m\u001b[1;33m)\u001b[0m\u001b[1;33m\u001b[0m\u001b[1;33m\u001b[0m\u001b[0m\n\u001b[0;32m   1281\u001b[0m         \u001b[1;32mif\u001b[0m \u001b[0mself\u001b[0m\u001b[1;33m.\u001b[0m\u001b[0mvmin\u001b[0m \u001b[1;32mis\u001b[0m \u001b[1;32mNone\u001b[0m \u001b[1;32mand\u001b[0m \u001b[0mA\u001b[0m\u001b[1;33m.\u001b[0m\u001b[0msize\u001b[0m\u001b[1;33m:\u001b[0m\u001b[1;33m\u001b[0m\u001b[1;33m\u001b[0m\u001b[0m\n\u001b[1;32m-> 1282\u001b[1;33m             \u001b[0mself\u001b[0m\u001b[1;33m.\u001b[0m\u001b[0mvmin\u001b[0m \u001b[1;33m=\u001b[0m \u001b[0mA\u001b[0m\u001b[1;33m.\u001b[0m\u001b[0mmin\u001b[0m\u001b[1;33m(\u001b[0m\u001b[1;33m)\u001b[0m\u001b[1;33m\u001b[0m\u001b[1;33m\u001b[0m\u001b[0m\n\u001b[0m\u001b[0;32m   1283\u001b[0m         \u001b[1;32mif\u001b[0m \u001b[0mself\u001b[0m\u001b[1;33m.\u001b[0m\u001b[0mvmax\u001b[0m \u001b[1;32mis\u001b[0m \u001b[1;32mNone\u001b[0m \u001b[1;32mand\u001b[0m \u001b[0mA\u001b[0m\u001b[1;33m.\u001b[0m\u001b[0msize\u001b[0m\u001b[1;33m:\u001b[0m\u001b[1;33m\u001b[0m\u001b[1;33m\u001b[0m\u001b[0m\n\u001b[0;32m   1284\u001b[0m             \u001b[0mself\u001b[0m\u001b[1;33m.\u001b[0m\u001b[0mvmax\u001b[0m \u001b[1;33m=\u001b[0m \u001b[0mA\u001b[0m\u001b[1;33m.\u001b[0m\u001b[0mmax\u001b[0m\u001b[1;33m(\u001b[0m\u001b[1;33m)\u001b[0m\u001b[1;33m\u001b[0m\u001b[1;33m\u001b[0m\u001b[0m\n",
      "\u001b[1;32m~\\anaconda3\\lib\\site-packages\\numpy\\ma\\core.py\u001b[0m in \u001b[0;36mmin\u001b[1;34m(self, axis, out, fill_value, keepdims)\u001b[0m\n\u001b[0;32m   5698\u001b[0m         \u001b[1;31m# No explicit output\u001b[0m\u001b[1;33m\u001b[0m\u001b[1;33m\u001b[0m\u001b[0m\n\u001b[0;32m   5699\u001b[0m         \u001b[1;32mif\u001b[0m \u001b[0mout\u001b[0m \u001b[1;32mis\u001b[0m \u001b[1;32mNone\u001b[0m\u001b[1;33m:\u001b[0m\u001b[1;33m\u001b[0m\u001b[1;33m\u001b[0m\u001b[0m\n\u001b[1;32m-> 5700\u001b[1;33m             result = self.filled(fill_value).min(\n\u001b[0m\u001b[0;32m   5701\u001b[0m                 axis=axis, out=out, **kwargs).view(type(self))\n\u001b[0;32m   5702\u001b[0m             \u001b[1;32mif\u001b[0m \u001b[0mresult\u001b[0m\u001b[1;33m.\u001b[0m\u001b[0mndim\u001b[0m\u001b[1;33m:\u001b[0m\u001b[1;33m\u001b[0m\u001b[1;33m\u001b[0m\u001b[0m\n",
      "\u001b[1;32m~\\anaconda3\\lib\\site-packages\\numpy\\core\\_methods.py\u001b[0m in \u001b[0;36m_amin\u001b[1;34m(a, axis, out, keepdims, initial, where)\u001b[0m\n\u001b[0;32m     42\u001b[0m def _amin(a, axis=None, out=None, keepdims=False,\n\u001b[0;32m     43\u001b[0m           initial=_NoValue, where=True):\n\u001b[1;32m---> 44\u001b[1;33m     \u001b[1;32mreturn\u001b[0m \u001b[0mumr_minimum\u001b[0m\u001b[1;33m(\u001b[0m\u001b[0ma\u001b[0m\u001b[1;33m,\u001b[0m \u001b[0maxis\u001b[0m\u001b[1;33m,\u001b[0m \u001b[1;32mNone\u001b[0m\u001b[1;33m,\u001b[0m \u001b[0mout\u001b[0m\u001b[1;33m,\u001b[0m \u001b[0mkeepdims\u001b[0m\u001b[1;33m,\u001b[0m \u001b[0minitial\u001b[0m\u001b[1;33m,\u001b[0m \u001b[0mwhere\u001b[0m\u001b[1;33m)\u001b[0m\u001b[1;33m\u001b[0m\u001b[1;33m\u001b[0m\u001b[0m\n\u001b[0m\u001b[0;32m     45\u001b[0m \u001b[1;33m\u001b[0m\u001b[0m\n\u001b[0;32m     46\u001b[0m def _sum(a, axis=None, dtype=None, out=None, keepdims=False,\n",
      "\u001b[1;31mKeyboardInterrupt\u001b[0m: "
     ]
    }
   ],
   "source": [
    "profile = ProfileReport(merged_df_finale, title=\"STEM HACKATON - Pandas Profiling Report\", explorative=True)\n",
    "profile.to_file(\"stem_hackaton.html\")"
   ]
  },
  {
   "cell_type": "markdown",
   "id": "b68e9270",
   "metadata": {},
   "source": [
    "## Eliminate the variables that are not significant for our problem"
   ]
  },
  {
   "cell_type": "code",
   "execution_count": 22,
   "id": "ec3d4992",
   "metadata": {},
   "outputs": [],
   "source": [
    "merged_df_finale.drop([\n",
    "    'IDnum',\n",
    "    'OwnerId',\n",
    "    'Name',\n",
    "    'AVTRRT__Account_Job__c',\n",
    "    'AVTRRT__Contact_Candidate__c',\n",
    "    'AVTRRT__Job__c',\n",
    "    'AVTRRT__Resume__c',  \n",
    "    'AVTRRT__State__c',\n",
    "    'Current_Role__c', #1/3 of the records are 00Eb0000000dAV4\n",
    "    'Language_01__c', #too much nan\n",
    "    'Language_02__c', #too much nan\n",
    "    'Level_Language_01__c', #too much nan\n",
    "    'Level_Language_02__c', #too much nan\n",
    "    'AVTRRT__Job_Num__c',\n",
    "    'AVTRRT__Closed_Qualifiers__c', ##with this feature we've seen what AVTRRTClosed_c values mean, but now we do not need it anymore\n",
    "    'AVTRRT__Job_Country__c',\n",
    "    'AVTRRT__Job_Description__c',\n",
    "    'Location__c',\n",
    "    'Travel__c',\n",
    "    'Competitors__c',\n",
    "    'Daily_Rate__c',\n",
    "    'AVTRRT__Hired_Date__c',\n",
    "    'AccountId',\n",
    "    'RecordTypeId',\n",
    "    'MailingCity',\n",
    "    'MailingState',\n",
    "    'MailingCountry',\n",
    "    'AVTRRT__Candidate_Id__c',\n",
    "    'AVTRRT__Candidate_Short_List__c',\n",
    "    'AVTRRT__Candidate_Summary__c',\n",
    "    'AVTRRT__Candidate_Write_Up__c',\n",
    "    'AVTRRT__Cover_Letter__c',\n",
    "    'AVTRRT__Current_Pay__c',\n",
    "    'AVTRRT__Education_Details__c',\n",
    "    'AVTRRT__General_Competency__c',\n",
    "    'AVTRRT__IT_Competency__c',\n",
    "    'AVTRRT__Other_Competency__c',\n",
    "    ' ',\n",
    "    'AVTRRT__Previous_Titles__c',\n",
    "    'Language_03__c',\n",
    "    'Level_Language_03__c',\n",
    "    'Desired_companies__c',\n",
    "    'Bonus__c',\n",
    "    'Tot_Experience__c',\n",
    "    'Unnamed: 55',\n",
    "    'P_L_Responsability__c'\n",
    "], axis=1, inplace = True)"
   ]
  },
  {
   "cell_type": "code",
   "execution_count": 23,
   "id": "685337e0",
   "metadata": {},
   "outputs": [],
   "source": [
    "df_finale = merged_df_finale.copy() "
   ]
  },
  {
   "cell_type": "markdown",
   "id": "b56420fc",
   "metadata": {},
   "source": [
    "## Analyze the NAs"
   ]
  },
  {
   "cell_type": "code",
   "execution_count": 24,
   "id": "40893896",
   "metadata": {},
   "outputs": [],
   "source": [
    "from termcolor import colored"
   ]
  },
  {
   "cell_type": "code",
   "execution_count": 25,
   "id": "5a9db54b",
   "metadata": {},
   "outputs": [
    {
     "name": "stdout",
     "output_type": "stream",
     "text": [
      "Column \"Id\" has 0.00% missing values.\n",
      "Column \"AVTRRT__City__c\" has 35.40% missing values.\n",
      "Column \"AVTRRT__Desired_Pay_Range_From__c\" has 72.50% missing values.\n",
      "Column \"AVTRRT__Experience__c\" has 99.52% missing values.\n",
      "Column \"AVTRRT__Job_Title__c\" has 0.00% missing values.\n",
      "Column \"AVTRRT__Pay_Type__c\" has 71.24% missing values.\n",
      "Column \"AVTRRT__Percentage_of_Travel__c\" has 75.61% missing values.\n",
      "Column \"AVTRRT__Relocation__c\" has 0.00% missing values.\n",
      "Column \"AVTRRT__Stage__c\" has 26.76% missing values.\n",
      "Column \"AVTRRT__Type__c\" has 0.00% missing values.\n",
      "Column \"Relevant_Qualification__c\" has 98.60% missing values.\n",
      "Column \"Reason_for_leaving__c\" has 98.41% missing values.\n",
      "Column \"Overall_Experience__c\" has 97.43% missing values.\n",
      "Column \"Specific_Experience__c\" has 97.43% missing values.\n",
      "Column \"Current_Salary__c\" has 99.89% missing values.\n",
      "Column \"Current_Bonus__c\" has 99.95% missing values.\n",
      "Column \"Current_Benefits__c\" has 99.97% missing values.\n",
      "Column \"Notice_Period__c\" has 97.75% missing values.\n",
      "Column \"Contract_Level__c\" has 98.71% missing values.\n",
      "Column \"Team_Leading_Responsibility__c\" has 97.64% missing values.\n",
      "Column \"Profit_and_Loss_Resp__c\" has 99.52% missing values.\n",
      "Column \"International_experience__c\" has 97.72% missing values.\n",
      "Column \"Type_of_Studies__c\" has 97.64% missing values.\n",
      "Column \"Non_Compete_Agreements__c\" has 98.68% missing values.\n",
      "Column \"Type_of_Contract__c\" has 0.00% missing values.\n",
      "Column \"Field_of_Studies__c\" has 97.73% missing values.\n",
      "Column \"Year_of_Birth__c\" has 98.43% missing values.\n",
      "Column \"AVTRRT__AutoPopulated_Skills__c\" has 11.48% missing values.\n",
      "Column \"AVTRRT__Closed__c\" has 0.09% missing values.\n",
      "Column \"AVTRRT__Job_Category__c\" has 0.09% missing values.\n",
      "Column \"AVTRRT__Job_Summary__c\" has 15.68% missing values.\n",
      "Column \"AVTRRT__Job_Term__c\" has 0.12% missing values.\n",
      "Column \"AVTRRT__Number_of_Applicants__c\" has 1.12% missing values.\n",
      "Column \"AVTRRT__Number_of_Positions__c\" has 0.11% missing values.\n",
      "Column \"AVTRRT__Number_of_Interviews__c\" has 21.73% missing values.\n",
      "Column \"Job_Type__c\" has 0.09% missing values.\n",
      "Column \"Team_Leading__c\" has 0.27% missing values.\n",
      "Column \"Project_Management__c\" has 0.27% missing values.\n",
      "Column \"OSN_Practice_Focus__c\" has 9.70% missing values.\n",
      "Column \"Reason_for_requisition__c\" has 0.11% missing values.\n",
      "Column \"Type_of_contract__c\" has 0.09% missing values.\n",
      "Column \"Fix_Salary__c\" has 0.31% missing values.\n",
      "Column \"Variable_Bonus__c\" has 1.11% missing values.\n",
      "Column \"Commission_Fee__c\" has 0.09% missing values.\n",
      "Column \"Languages__c\" has 0.11% missing values.\n",
      "Column \"Benefits__c\" has 2.82% missing values.\n",
      "Column \"OSN_Practice__c\" has 0.11% missing values.\n",
      "Column \"Title\" has 15.09% missing values.\n",
      "Column \"AVTRRT__AutoPopulate_Skillset__c\" has 5.82% missing values.\n",
      "Column \"AVTRRT__General_Job_Category_Sought__c\" has 75.14% missing values.\n",
      "Column \"AVTRRT__Locations_1st_Choice__c\" has 71.88% missing values.\n",
      "Column \"AVTRRT__Open_For_Relocation__c\" has 1.47% missing values.\n",
      "Column \"AVTRRT__Source__c\" has 9.09% missing values.\n",
      "Column \"Area_of_interest_b__c\" has 53.69% missing values.\n",
      "Column \"Reason_for_Leaving__c\" has 82.67% missing values.\n",
      "Column \"Type_of_Experience__c\" has 75.81% missing values.\n",
      "Column \"P_L_Responsibility__c\" has 80.26% missing values.\n",
      "Column \"International_Experience__c\" has 77.41% missing values.\n",
      "Column \"CCNL__c\" has 79.87% missing values.\n",
      "Column \"Specialisation_Industry__c\" has 79.50% missing values.\n",
      "Column \"Relocation__c\" has 79.79% missing values.\n",
      "Column \"CCNL_Level__c\" has 80.28% missing values.\n",
      "Columns with high missing values: ['AVTRRT__Desired_Pay_Range_From__c', 'AVTRRT__Experience__c', 'AVTRRT__Pay_Type__c', 'AVTRRT__Percentage_of_Travel__c', 'Relevant_Qualification__c', 'Reason_for_leaving__c', 'Overall_Experience__c', 'Specific_Experience__c', 'Current_Salary__c', 'Current_Bonus__c', 'Current_Benefits__c', 'Notice_Period__c', 'Contract_Level__c', 'Team_Leading_Responsibility__c', 'Profit_and_Loss_Resp__c', 'International_experience__c', 'Type_of_Studies__c', 'Non_Compete_Agreements__c', 'Field_of_Studies__c', 'Year_of_Birth__c', 'AVTRRT__General_Job_Category_Sought__c', 'AVTRRT__Locations_1st_Choice__c', 'Area_of_interest_b__c', 'Reason_for_Leaving__c', 'Type_of_Experience__c', 'P_L_Responsibility__c', 'International_Experience__c', 'CCNL__c', 'Specialisation_Industry__c', 'Relocation__c', 'CCNL_Level__c']\n"
     ]
    }
   ],
   "source": [
    "def missing_values_percentage(df):\n",
    "    total_rows = df.shape[0]\n",
    "    columns_with_high_missing_values = []\n",
    "    for column in df.columns:\n",
    "        missing_count = df[column].isnull().sum()\n",
    "        missing_percentage = (missing_count / total_rows) * 100\n",
    "        if missing_percentage > 40:\n",
    "            print(colored(f'Column \"{column}\" has {missing_percentage:.2f}% missing values.', 'red'))\n",
    "            columns_with_high_missing_values.append(column)\n",
    "        else:\n",
    "            print(f'Column \"{column}\" has {missing_percentage:.2f}% missing values.')\n",
    "\n",
    "    return columns_with_high_missing_values\n",
    "\n",
    "\n",
    "columns_with_high_missing_values = missing_values_percentage(df_finale)\n",
    "print(\"Columns with high missing values:\", columns_with_high_missing_values)"
   ]
  },
  {
   "cell_type": "markdown",
   "id": "a46a5f4e",
   "metadata": {},
   "source": [
    "## Eliminate columns consisting mainly of NAs"
   ]
  },
  {
   "cell_type": "code",
   "execution_count": 26,
   "id": "d5ed489a",
   "metadata": {
    "scrolled": true
   },
   "outputs": [],
   "source": [
    "#high_missing_values\n",
    "high_missing = ['AVTRRT__Desired_Pay_Range_From__c',\n",
    " 'AVTRRT__Experience__c',\n",
    "'AVTRRT__Open_For_Relocation__c',\n",
    " 'AVTRRT__Pay_Type__c',\n",
    " 'AVTRRT__Percentage_of_Travel__c',\n",
    " 'Relevant_Qualification__c',\n",
    " 'Reason_for_leaving__c',\n",
    " 'Overall_Experience__c',\n",
    " 'Specific_Experience__c',\n",
    " 'Current_Salary__c',\n",
    " 'Current_Bonus__c',\n",
    " 'Current_Benefits__c',\n",
    " 'Notice_Period__c',\n",
    " 'Contract_Level__c',\n",
    " 'Team_Leading_Responsibility__c',\n",
    " 'Profit_and_Loss_Resp__c',\n",
    " 'International_experience__c',\n",
    " 'Type_of_Studies__c',\n",
    " 'Non_Compete_Agreements__c',\n",
    " 'Field_of_Studies__c',\n",
    " 'Year_of_Birth__c',\n",
    " 'AVTRRT__General_Job_Category_Sought__c',\n",
    " 'AVTRRT__Locations_1st_Choice__c',\n",
    " 'Area_of_interest_b__c',\n",
    " 'Reason_for_Leaving__c',\n",
    " 'Type_of_Experience__c',\n",
    " 'P_L_Responsibility__c',\n",
    " 'International_Experience__c',\n",
    " 'CCNL__c',\n",
    " 'Specialisation_Industry__c',\n",
    " 'CCNL_Level__c',\n",
    "'Relocation__c',\n",
    "\"AVTRRT__Closed__c\"]\n",
    "df_finale.drop(high_missing, axis = 1, inplace = True)"
   ]
  },
  {
   "cell_type": "markdown",
   "id": "7bcf03af",
   "metadata": {},
   "source": [
    "## Analyse the correlation between variables and decide to eliminate Open to relocation (in the previous chunk)"
   ]
  },
  {
   "cell_type": "code",
   "execution_count": 27,
   "id": "5a782ddc",
   "metadata": {},
   "outputs": [],
   "source": [
    "import seaborn as sns"
   ]
  },
  {
   "cell_type": "code",
   "execution_count": 28,
   "id": "71186fb3",
   "metadata": {},
   "outputs": [
    {
     "name": "stderr",
     "output_type": "stream",
     "text": [
      "C:\\Users\\Fioruch\\AppData\\Local\\Temp\\ipykernel_8432\\1115125071.py:5: UserWarning: Matplotlib is currently using module://matplotlib_inline.backend_inline, which is a non-GUI backend, so cannot show the figure.\n",
      "  plt.show()\n"
     ]
    }
   ],
   "source": [
    "correlation_matrix = df_finale.corr()\n",
    "plt.figure(figsize=(10, 8))\n",
    "sns.heatmap(correlation_matrix, annot=True, cmap='RdYlGn', linewidths=0.5)\n",
    "plt.title('Heatmap di Correlazione')\n",
    "plt.show()"
   ]
  },
  {
   "cell_type": "markdown",
   "id": "6a2e11e7",
   "metadata": {},
   "source": [
    " ## Renaming columns to avoid double underscore problems"
   ]
  },
  {
   "cell_type": "code",
   "execution_count": 29,
   "id": "4510c4fb",
   "metadata": {},
   "outputs": [],
   "source": [
    "df_finale.rename(columns=lambda x: x.replace('__', '_'), inplace=True)"
   ]
  },
  {
   "cell_type": "markdown",
   "id": "8a5aab60",
   "metadata": {},
   "source": [
    "## Create a copy on which to work on preprocessing for modelling and do another check with profiling"
   ]
  },
  {
   "cell_type": "code",
   "execution_count": 30,
   "id": "a343e1fa",
   "metadata": {},
   "outputs": [],
   "source": [
    "df = df_finale.copy()"
   ]
  },
  {
   "cell_type": "code",
   "execution_count": 36,
   "id": "24e4664c",
   "metadata": {},
   "outputs": [
    {
     "data": {
      "application/vnd.jupyter.widget-view+json": {
       "model_id": "229d822ac0424aadb0a048c170e76fcc",
       "version_major": 2,
       "version_minor": 0
      },
      "text/plain": [
       "Summarize dataset:   0%|          | 0/5 [00:00<?, ?it/s]"
      ]
     },
     "metadata": {},
     "output_type": "display_data"
    },
    {
     "data": {
      "application/vnd.jupyter.widget-view+json": {
       "model_id": "5c861e73ea2845529b80827c199edbd5",
       "version_major": 2,
       "version_minor": 0
      },
      "text/plain": [
       "Generate report structure:   0%|          | 0/1 [00:00<?, ?it/s]"
      ]
     },
     "metadata": {},
     "output_type": "display_data"
    },
    {
     "data": {
      "application/vnd.jupyter.widget-view+json": {
       "model_id": "183e9d0f349f4845b14cfb20d111a513",
       "version_major": 2,
       "version_minor": 0
      },
      "text/plain": [
       "Render HTML:   0%|          | 0/1 [00:00<?, ?it/s]"
      ]
     },
     "metadata": {},
     "output_type": "display_data"
    },
    {
     "data": {
      "application/vnd.jupyter.widget-view+json": {
       "model_id": "483710a7538449618be2743be81dbd38",
       "version_major": 2,
       "version_minor": 0
      },
      "text/plain": [
       "Export report to file:   0%|          | 0/1 [00:00<?, ?it/s]"
      ]
     },
     "metadata": {},
     "output_type": "display_data"
    }
   ],
   "source": [
    "profile_fin = ProfileReport(df, title=\"STEM HACKATON FINALE - Pandas Profiling Report\", explorative=True)\n",
    "profile_fin.to_file(\"stem_hackaton_fin.html\")"
   ]
  },
  {
   "cell_type": "markdown",
   "id": "fa94b780",
   "metadata": {},
   "source": [
    "## Check that the index is right after the various drops"
   ]
  },
  {
   "cell_type": "code",
   "execution_count": 31,
   "id": "02964e55",
   "metadata": {},
   "outputs": [],
   "source": [
    "df.index = range(1, len(df) + 1)"
   ]
  },
  {
   "cell_type": "code",
   "execution_count": 32,
   "id": "ef998f6a",
   "metadata": {},
   "outputs": [
    {
     "data": {
      "text/plain": [
       "True"
      ]
     },
     "execution_count": 32,
     "metadata": {},
     "output_type": "execute_result"
    }
   ],
   "source": [
    "df.Id[52701]  == 'a0Db000000V3XVjEAN' #check for index"
   ]
  },
  {
   "cell_type": "markdown",
   "id": "d154a7d1",
   "metadata": {},
   "source": [
    "## Divide in train and test set"
   ]
  },
  {
   "cell_type": "code",
   "execution_count": 33,
   "id": "7ff80ffc",
   "metadata": {},
   "outputs": [],
   "source": [
    "train = df[:52700]"
   ]
  },
  {
   "cell_type": "code",
   "execution_count": 34,
   "id": "beb44d47",
   "metadata": {},
   "outputs": [],
   "source": [
    "test = df[52700:]"
   ]
  },
  {
   "cell_type": "code",
   "execution_count": 35,
   "id": "24ecc93e",
   "metadata": {},
   "outputs": [],
   "source": [
    "train = train[train['AVTRRT_Stage_c'] != 2]"
   ]
  },
  {
   "cell_type": "markdown",
   "id": "8bc4232d",
   "metadata": {},
   "source": [
    "## Creating a function to assess the performance of upcoming models"
   ]
  },
  {
   "cell_type": "code",
   "execution_count": 36,
   "id": "1e6cdf2c",
   "metadata": {},
   "outputs": [],
   "source": [
    "from sklearn.metrics import classification_report\n",
    "from yellowbrick.classifier import ConfusionMatrix\n",
    "from yellowbrick.classifier import ClassificationReport\n",
    "from yellowbrick.classifier import ROCAUC\n",
    "from yellowbrick.classifier import PrecisionRecallCurve\n",
    "from yellowbrick.classifier import ClassPredictionError\n",
    "from yellowbrick.classifier import DiscriminationThreshold"
   ]
  },
  {
   "cell_type": "code",
   "execution_count": 37,
   "id": "fa67eee4",
   "metadata": {},
   "outputs": [],
   "source": [
    "from yellowbrick.exceptions import YellowbrickTypeError\n",
    "\n",
    "def classification_results(model, X_train, y_train, X_val, y_val, classes=[\"non assunto\", \"assunto\"]):\n",
    "    classes = classes\n",
    "\n",
    "    # sklearn classification_report\n",
    "    cr = classification_report(y_val, model.predict(X_val), target_names=classes)\n",
    "    print(cr)\n",
    "\n",
    "    if isinstance(model, CatBoostClassifier):\n",
    "        print(\"Skipping Yellowbrick visualizations for CatBoostClassifier.\")\n",
    "        return\n",
    "\n",
    "    try:\n",
    "        from yellowbrick.classifier import ClassificationReport\n",
    "        cr = ClassificationReport(model, classes=classes)\n",
    "        cr.score(X_val, y_val)\n",
    "        cr.show()\n",
    "    except YellowbrickTypeError as e:\n",
    "        print(\"YellowbrickTypeError caught\", e)\n",
    "\n",
    "    try:\n",
    "        from yellowbrick.classifier import ConfusionMatrix\n",
    "        cm = ConfusionMatrix(model, classes=classes)\n",
    "        cm.score(X_val, y_val)\n",
    "        cm.show()\n",
    "    except YellowbrickTypeError as e:\n",
    "        print(\"YellowbrickTypeError caught\", e)\n",
    "\n",
    "    try:\n",
    "        from yellowbrick.classifier import ClassPredictionError\n",
    "        pe = ClassPredictionError(model, classes=classes)\n",
    "        pe.score(X_val, y_val)\n",
    "        pe.show()\n",
    "    except YellowbrickTypeError as e:\n",
    "        print(\"YellowbrickTypeError caught\", e)\n",
    "\n",
    "    try:\n",
    "        from yellowbrick.classifier import ROCAUC\n",
    "        ra = ROCAUC(model, classes=classes)\n",
    "        ra.score(X_val, y_val)\n",
    "        ra.show()\n",
    "    except YellowbrickTypeError as e:\n",
    "        print(\"YellowbrickTypeError caught\", e)\n",
    "\n",
    "    try:\n",
    "        from yellowbrick.classifier import PrecisionRecallCurve\n",
    "        pr = PrecisionRecallCurve(model)\n",
    "        pr.score(X_val, y_val)\n",
    "        pr.show()\n",
    "    except YellowbrickTypeError as e:\n",
    "        print(\"YellowbrickTypeError caught\", e)\n"
   ]
  },
  {
   "cell_type": "code",
   "execution_count": 38,
   "id": "6ec9dd12",
   "metadata": {},
   "outputs": [],
   "source": [
    "y_cat = train[\"AVTRRT_Stage_c\"]\n",
    "X_cat= train.drop([\"AVTRRT_Stage_c\", \"Id\"], axis = 1)\n",
    "\n",
    "cat_features = X_cat.select_dtypes(include=\"object\").columns.tolist()\n",
    "\n",
    "num_features = X_cat.select_dtypes(include=[\"float64\", \"int64\"]).columns.tolist()\n",
    "X_cat[cat_features] = X_cat[cat_features].fillna('unknown')\n",
    "column_means = X_cat[num_features].mean()\n",
    "\n",
    "# Riempimento dei valori mancanti con la media delle colonne\n",
    "X_cat[num_features] = X_cat[num_features].fillna(column_means)"
   ]
  },
  {
   "cell_type": "code",
   "execution_count": 39,
   "id": "3eddbea6",
   "metadata": {},
   "outputs": [],
   "source": [
    "from sklearn.model_selection import train_test_split"
   ]
  },
  {
   "cell_type": "code",
   "execution_count": 40,
   "id": "1b6e31a0",
   "metadata": {},
   "outputs": [],
   "source": [
    "X_train_cat, X_val_cat, y_train_cat, y_val_cat = train_test_split(X_cat, y_cat, test_size=0.2, stratify = y_cat)"
   ]
  },
  {
   "cell_type": "markdown",
   "id": "5aface2c",
   "metadata": {},
   "source": [
    "# Catboost "
   ]
  },
  {
   "cell_type": "code",
   "execution_count": 41,
   "id": "de7fa993",
   "metadata": {},
   "outputs": [],
   "source": [
    "from catboost import CatBoostClassifier\n",
    "from sklearn.metrics import accuracy_score"
   ]
  },
  {
   "cell_type": "code",
   "execution_count": 42,
   "id": "bc5dc171",
   "metadata": {
    "scrolled": true,
    "tags": []
   },
   "outputs": [
    {
     "name": "stdout",
     "output_type": "stream",
     "text": [
      "0:\tlearn: 0.6655857\ttotal: 278ms\tremaining: 18m 33s\n",
      "1:\tlearn: 0.6390241\ttotal: 370ms\tremaining: 12m 19s\n",
      "2:\tlearn: 0.6135236\ttotal: 456ms\tremaining: 10m 7s\n",
      "3:\tlearn: 0.5891669\ttotal: 536ms\tremaining: 8m 55s\n",
      "4:\tlearn: 0.5691732\ttotal: 589ms\tremaining: 7m 50s\n",
      "5:\tlearn: 0.5477289\ttotal: 674ms\tremaining: 7m 28s\n",
      "6:\tlearn: 0.5291403\ttotal: 749ms\tremaining: 7m 6s\n",
      "7:\tlearn: 0.5126330\ttotal: 834ms\tremaining: 6m 55s\n",
      "8:\tlearn: 0.4966091\ttotal: 906ms\tremaining: 6m 41s\n",
      "9:\tlearn: 0.4811939\ttotal: 985ms\tremaining: 6m 33s\n",
      "10:\tlearn: 0.4663541\ttotal: 1.07s\tremaining: 6m 29s\n",
      "11:\tlearn: 0.4525291\ttotal: 1.15s\tremaining: 6m 22s\n",
      "12:\tlearn: 0.4393983\ttotal: 1.22s\tremaining: 6m 13s\n",
      "13:\tlearn: 0.4277112\ttotal: 1.3s\tremaining: 6m 9s\n",
      "14:\tlearn: 0.4164743\ttotal: 1.38s\tremaining: 6m 5s\n",
      "15:\tlearn: 0.4072635\ttotal: 1.45s\tremaining: 5m 59s\n",
      "16:\tlearn: 0.3990457\ttotal: 1.49s\tremaining: 5m 49s\n",
      "17:\tlearn: 0.3913916\ttotal: 1.56s\tremaining: 5m 44s\n",
      "18:\tlearn: 0.3840883\ttotal: 1.63s\tremaining: 5m 41s\n",
      "19:\tlearn: 0.3769351\ttotal: 1.71s\tremaining: 5m 39s\n",
      "20:\tlearn: 0.3700390\ttotal: 1.78s\tremaining: 5m 38s\n",
      "21:\tlearn: 0.3630041\ttotal: 1.87s\tremaining: 5m 38s\n",
      "22:\tlearn: 0.3570739\ttotal: 1.95s\tremaining: 5m 36s\n",
      "23:\tlearn: 0.3516918\ttotal: 2.04s\tremaining: 5m 37s\n",
      "24:\tlearn: 0.3463256\ttotal: 2.13s\tremaining: 5m 38s\n",
      "25:\tlearn: 0.3411629\ttotal: 2.22s\tremaining: 5m 39s\n",
      "26:\tlearn: 0.3364333\ttotal: 2.31s\tremaining: 5m 40s\n",
      "27:\tlearn: 0.3323891\ttotal: 2.39s\tremaining: 5m 39s\n",
      "28:\tlearn: 0.3285745\ttotal: 2.48s\tremaining: 5m 39s\n",
      "29:\tlearn: 0.3248491\ttotal: 2.57s\tremaining: 5m 40s\n",
      "30:\tlearn: 0.3214316\ttotal: 2.68s\tremaining: 5m 42s\n",
      "31:\tlearn: 0.3187877\ttotal: 2.83s\tremaining: 5m 51s\n",
      "32:\tlearn: 0.3159747\ttotal: 2.94s\tremaining: 5m 53s\n",
      "33:\tlearn: 0.3135709\ttotal: 3.01s\tremaining: 5m 50s\n",
      "34:\tlearn: 0.3109216\ttotal: 3.1s\tremaining: 5m 51s\n",
      "35:\tlearn: 0.3086318\ttotal: 3.19s\tremaining: 5m 51s\n",
      "36:\tlearn: 0.3070899\ttotal: 3.24s\tremaining: 5m 46s\n",
      "37:\tlearn: 0.3048711\ttotal: 3.32s\tremaining: 5m 46s\n",
      "38:\tlearn: 0.3026909\ttotal: 3.43s\tremaining: 5m 48s\n",
      "39:\tlearn: 0.3004194\ttotal: 3.51s\tremaining: 5m 47s\n",
      "40:\tlearn: 0.2986251\ttotal: 3.6s\tremaining: 5m 47s\n",
      "41:\tlearn: 0.2968375\ttotal: 3.69s\tremaining: 5m 48s\n",
      "42:\tlearn: 0.2951351\ttotal: 3.78s\tremaining: 5m 47s\n",
      "43:\tlearn: 0.2933578\ttotal: 3.89s\tremaining: 5m 49s\n",
      "44:\tlearn: 0.2919565\ttotal: 3.97s\tremaining: 5m 49s\n",
      "45:\tlearn: 0.2906917\ttotal: 4.07s\tremaining: 5m 49s\n",
      "46:\tlearn: 0.2894182\ttotal: 4.18s\tremaining: 5m 51s\n",
      "47:\tlearn: 0.2880629\ttotal: 4.27s\tremaining: 5m 51s\n",
      "48:\tlearn: 0.2868867\ttotal: 4.36s\tremaining: 5m 51s\n",
      "49:\tlearn: 0.2858640\ttotal: 4.46s\tremaining: 5m 52s\n",
      "50:\tlearn: 0.2847944\ttotal: 4.55s\tremaining: 5m 52s\n",
      "51:\tlearn: 0.2836481\ttotal: 4.65s\tremaining: 5m 53s\n",
      "52:\tlearn: 0.2826377\ttotal: 4.75s\tremaining: 5m 53s\n",
      "53:\tlearn: 0.2815968\ttotal: 4.84s\tremaining: 5m 54s\n",
      "54:\tlearn: 0.2806946\ttotal: 4.94s\tremaining: 5m 54s\n",
      "55:\tlearn: 0.2799481\ttotal: 5.04s\tremaining: 5m 55s\n",
      "56:\tlearn: 0.2791222\ttotal: 5.13s\tremaining: 5m 54s\n",
      "57:\tlearn: 0.2783054\ttotal: 5.22s\tremaining: 5m 54s\n",
      "58:\tlearn: 0.2774832\ttotal: 5.32s\tremaining: 5m 55s\n",
      "59:\tlearn: 0.2768198\ttotal: 5.42s\tremaining: 5m 55s\n",
      "60:\tlearn: 0.2761270\ttotal: 5.51s\tremaining: 5m 56s\n",
      "61:\tlearn: 0.2755706\ttotal: 5.62s\tremaining: 5m 56s\n",
      "62:\tlearn: 0.2749275\ttotal: 5.71s\tremaining: 5m 56s\n",
      "63:\tlearn: 0.2742445\ttotal: 5.8s\tremaining: 5m 56s\n",
      "64:\tlearn: 0.2738114\ttotal: 5.91s\tremaining: 5m 57s\n",
      "65:\tlearn: 0.2732563\ttotal: 6s\tremaining: 5m 57s\n",
      "66:\tlearn: 0.2727561\ttotal: 6.09s\tremaining: 5m 57s\n",
      "67:\tlearn: 0.2723253\ttotal: 6.22s\tremaining: 5m 59s\n",
      "68:\tlearn: 0.2718565\ttotal: 6.32s\tremaining: 6m\n",
      "69:\tlearn: 0.2714553\ttotal: 6.42s\tremaining: 6m\n",
      "70:\tlearn: 0.2710321\ttotal: 6.53s\tremaining: 6m 1s\n",
      "71:\tlearn: 0.2706188\ttotal: 6.63s\tremaining: 6m 1s\n",
      "72:\tlearn: 0.2702125\ttotal: 6.72s\tremaining: 6m 1s\n",
      "73:\tlearn: 0.2698377\ttotal: 6.84s\tremaining: 6m 2s\n",
      "74:\tlearn: 0.2695497\ttotal: 6.93s\tremaining: 6m 2s\n",
      "75:\tlearn: 0.2692207\ttotal: 7.01s\tremaining: 6m 2s\n",
      "76:\tlearn: 0.2688811\ttotal: 7.11s\tremaining: 6m 2s\n",
      "77:\tlearn: 0.2685711\ttotal: 7.22s\tremaining: 6m 2s\n",
      "78:\tlearn: 0.2682274\ttotal: 7.3s\tremaining: 6m 2s\n",
      "79:\tlearn: 0.2679447\ttotal: 7.41s\tremaining: 6m 2s\n",
      "80:\tlearn: 0.2676343\ttotal: 7.51s\tremaining: 6m 3s\n",
      "81:\tlearn: 0.2673540\ttotal: 7.6s\tremaining: 6m 3s\n",
      "82:\tlearn: 0.2670813\ttotal: 7.71s\tremaining: 6m 4s\n",
      "83:\tlearn: 0.2668254\ttotal: 7.8s\tremaining: 6m 3s\n",
      "84:\tlearn: 0.2665939\ttotal: 7.9s\tremaining: 6m 4s\n",
      "85:\tlearn: 0.2663978\ttotal: 8.01s\tremaining: 6m 4s\n",
      "86:\tlearn: 0.2661538\ttotal: 8.1s\tremaining: 6m 4s\n",
      "87:\tlearn: 0.2658447\ttotal: 8.2s\tremaining: 6m 4s\n",
      "88:\tlearn: 0.2655504\ttotal: 8.31s\tremaining: 6m 5s\n",
      "89:\tlearn: 0.2653339\ttotal: 8.41s\tremaining: 6m 5s\n",
      "90:\tlearn: 0.2651013\ttotal: 8.52s\tremaining: 6m 6s\n",
      "91:\tlearn: 0.2648752\ttotal: 8.62s\tremaining: 6m 6s\n",
      "92:\tlearn: 0.2646031\ttotal: 8.72s\tremaining: 6m 6s\n",
      "93:\tlearn: 0.2643897\ttotal: 8.81s\tremaining: 6m 6s\n",
      "94:\tlearn: 0.2641571\ttotal: 8.91s\tremaining: 6m 6s\n",
      "95:\tlearn: 0.2639839\ttotal: 9s\tremaining: 6m 6s\n",
      "96:\tlearn: 0.2637178\ttotal: 9.1s\tremaining: 6m 6s\n",
      "97:\tlearn: 0.2634649\ttotal: 9.2s\tremaining: 6m 6s\n",
      "98:\tlearn: 0.2632405\ttotal: 9.3s\tremaining: 6m 6s\n",
      "99:\tlearn: 0.2630847\ttotal: 9.39s\tremaining: 6m 6s\n",
      "100:\tlearn: 0.2628898\ttotal: 9.5s\tremaining: 6m 6s\n",
      "101:\tlearn: 0.2627140\ttotal: 9.6s\tremaining: 6m 6s\n",
      "102:\tlearn: 0.2625241\ttotal: 9.71s\tremaining: 6m 7s\n",
      "103:\tlearn: 0.2623489\ttotal: 9.81s\tremaining: 6m 7s\n",
      "104:\tlearn: 0.2621932\ttotal: 9.9s\tremaining: 6m 7s\n",
      "105:\tlearn: 0.2620150\ttotal: 10s\tremaining: 6m 8s\n",
      "106:\tlearn: 0.2618769\ttotal: 10.1s\tremaining: 6m 9s\n",
      "107:\tlearn: 0.2618077\ttotal: 10.3s\tremaining: 6m 9s\n",
      "108:\tlearn: 0.2616342\ttotal: 10.4s\tremaining: 6m 10s\n",
      "109:\tlearn: 0.2614443\ttotal: 10.5s\tremaining: 6m 11s\n",
      "110:\tlearn: 0.2612662\ttotal: 10.6s\tremaining: 6m 12s\n",
      "111:\tlearn: 0.2611125\ttotal: 10.7s\tremaining: 6m 12s\n",
      "112:\tlearn: 0.2609709\ttotal: 10.8s\tremaining: 6m 12s\n",
      "113:\tlearn: 0.2607990\ttotal: 10.9s\tremaining: 6m 12s\n",
      "114:\tlearn: 0.2606569\ttotal: 11s\tremaining: 6m 13s\n",
      "115:\tlearn: 0.2606184\ttotal: 11.1s\tremaining: 6m 11s\n",
      "116:\tlearn: 0.2604909\ttotal: 11.2s\tremaining: 6m 12s\n",
      "117:\tlearn: 0.2603648\ttotal: 11.3s\tremaining: 6m 12s\n",
      "118:\tlearn: 0.2602842\ttotal: 11.4s\tremaining: 6m 11s\n",
      "119:\tlearn: 0.2601593\ttotal: 11.5s\tremaining: 6m 11s\n",
      "120:\tlearn: 0.2600525\ttotal: 11.6s\tremaining: 6m 11s\n",
      "121:\tlearn: 0.2599814\ttotal: 11.7s\tremaining: 6m 10s\n",
      "122:\tlearn: 0.2598639\ttotal: 11.8s\tremaining: 6m 10s\n",
      "123:\tlearn: 0.2597773\ttotal: 11.9s\tremaining: 6m 10s\n",
      "124:\tlearn: 0.2597434\ttotal: 12s\tremaining: 6m 10s\n",
      "125:\tlearn: 0.2596457\ttotal: 12.1s\tremaining: 6m 10s\n",
      "126:\tlearn: 0.2595744\ttotal: 12.2s\tremaining: 6m 11s\n",
      "127:\tlearn: 0.2593925\ttotal: 12.2s\tremaining: 6m 10s\n",
      "128:\tlearn: 0.2593534\ttotal: 12.3s\tremaining: 6m 10s\n",
      "129:\tlearn: 0.2592066\ttotal: 12.4s\tremaining: 6m 10s\n",
      "130:\tlearn: 0.2590592\ttotal: 12.5s\tremaining: 6m 9s\n",
      "131:\tlearn: 0.2588812\ttotal: 12.6s\tremaining: 6m 9s\n",
      "132:\tlearn: 0.2588353\ttotal: 12.7s\tremaining: 6m 9s\n",
      "133:\tlearn: 0.2587460\ttotal: 12.8s\tremaining: 6m 8s\n",
      "134:\tlearn: 0.2586554\ttotal: 12.9s\tremaining: 6m 8s\n",
      "135:\tlearn: 0.2585843\ttotal: 13s\tremaining: 6m 8s\n",
      "136:\tlearn: 0.2584459\ttotal: 13.1s\tremaining: 6m 8s\n",
      "137:\tlearn: 0.2582991\ttotal: 13.2s\tremaining: 6m 8s\n",
      "138:\tlearn: 0.2581836\ttotal: 13.3s\tremaining: 6m 8s\n",
      "139:\tlearn: 0.2581095\ttotal: 13.3s\tremaining: 6m 8s\n",
      "140:\tlearn: 0.2580578\ttotal: 13.5s\tremaining: 6m 8s\n",
      "141:\tlearn: 0.2579782\ttotal: 13.5s\tremaining: 6m 7s\n",
      "142:\tlearn: 0.2578844\ttotal: 13.6s\tremaining: 6m 7s\n",
      "143:\tlearn: 0.2578249\ttotal: 13.7s\tremaining: 6m 7s\n",
      "144:\tlearn: 0.2577131\ttotal: 13.8s\tremaining: 6m 7s\n",
      "145:\tlearn: 0.2576242\ttotal: 13.9s\tremaining: 6m 7s\n",
      "146:\tlearn: 0.2575012\ttotal: 14s\tremaining: 6m 7s\n",
      "147:\tlearn: 0.2573600\ttotal: 14.1s\tremaining: 6m 7s\n",
      "148:\tlearn: 0.2572677\ttotal: 14.2s\tremaining: 6m 7s\n",
      "149:\tlearn: 0.2571526\ttotal: 14.3s\tremaining: 6m 7s\n",
      "150:\tlearn: 0.2570819\ttotal: 14.4s\tremaining: 6m 6s\n",
      "151:\tlearn: 0.2569970\ttotal: 14.5s\tremaining: 6m 7s\n",
      "152:\tlearn: 0.2569590\ttotal: 14.6s\tremaining: 6m 6s\n",
      "153:\tlearn: 0.2569093\ttotal: 14.7s\tremaining: 6m 6s\n",
      "154:\tlearn: 0.2568148\ttotal: 14.8s\tremaining: 6m 6s\n",
      "155:\tlearn: 0.2567108\ttotal: 14.9s\tremaining: 6m 6s\n",
      "156:\tlearn: 0.2566125\ttotal: 15s\tremaining: 6m 6s\n",
      "157:\tlearn: 0.2565149\ttotal: 15.1s\tremaining: 6m 6s\n",
      "158:\tlearn: 0.2564212\ttotal: 15.1s\tremaining: 6m 5s\n",
      "159:\tlearn: 0.2563545\ttotal: 15.2s\tremaining: 6m 5s\n",
      "160:\tlearn: 0.2562884\ttotal: 15.3s\tremaining: 6m 4s\n",
      "161:\tlearn: 0.2562843\ttotal: 15.4s\tremaining: 6m 3s\n",
      "162:\tlearn: 0.2561651\ttotal: 15.4s\tremaining: 6m 3s\n",
      "163:\tlearn: 0.2560991\ttotal: 15.5s\tremaining: 6m 3s\n",
      "164:\tlearn: 0.2560345\ttotal: 15.6s\tremaining: 6m 3s\n",
      "165:\tlearn: 0.2559822\ttotal: 15.7s\tremaining: 6m 3s\n",
      "166:\tlearn: 0.2558404\ttotal: 15.8s\tremaining: 6m 3s\n",
      "167:\tlearn: 0.2557217\ttotal: 15.9s\tremaining: 6m 3s\n",
      "168:\tlearn: 0.2556564\ttotal: 16s\tremaining: 6m 3s\n",
      "169:\tlearn: 0.2555656\ttotal: 16.2s\tremaining: 6m 3s\n",
      "170:\tlearn: 0.2555142\ttotal: 16.3s\tremaining: 6m 4s\n",
      "171:\tlearn: 0.2554237\ttotal: 16.4s\tremaining: 6m 5s\n",
      "172:\tlearn: 0.2553831\ttotal: 16.5s\tremaining: 6m 6s\n",
      "173:\tlearn: 0.2553224\ttotal: 16.7s\tremaining: 6m 6s\n",
      "174:\tlearn: 0.2552815\ttotal: 16.7s\tremaining: 6m 6s\n",
      "175:\tlearn: 0.2552436\ttotal: 16.8s\tremaining: 6m 5s\n",
      "176:\tlearn: 0.2551715\ttotal: 16.9s\tremaining: 6m 5s\n",
      "177:\tlearn: 0.2550924\ttotal: 17s\tremaining: 6m 5s\n",
      "178:\tlearn: 0.2550258\ttotal: 17.1s\tremaining: 6m 5s\n",
      "179:\tlearn: 0.2549247\ttotal: 17.2s\tremaining: 6m 5s\n",
      "180:\tlearn: 0.2548608\ttotal: 17.3s\tremaining: 6m 5s\n",
      "181:\tlearn: 0.2547884\ttotal: 17.5s\tremaining: 6m 6s\n",
      "182:\tlearn: 0.2547461\ttotal: 17.6s\tremaining: 6m 6s\n",
      "183:\tlearn: 0.2546281\ttotal: 17.6s\tremaining: 6m 5s\n",
      "184:\tlearn: 0.2545681\ttotal: 17.8s\tremaining: 6m 6s\n",
      "185:\tlearn: 0.2545106\ttotal: 17.9s\tremaining: 6m 8s\n",
      "186:\tlearn: 0.2544193\ttotal: 18.1s\tremaining: 6m 8s\n",
      "187:\tlearn: 0.2543243\ttotal: 18.2s\tremaining: 6m 9s\n",
      "188:\tlearn: 0.2542260\ttotal: 18.3s\tremaining: 6m 8s\n",
      "189:\tlearn: 0.2541679\ttotal: 18.4s\tremaining: 6m 9s\n",
      "190:\tlearn: 0.2540729\ttotal: 18.5s\tremaining: 6m 9s\n",
      "191:\tlearn: 0.2539795\ttotal: 18.6s\tremaining: 6m 9s\n",
      "192:\tlearn: 0.2539278\ttotal: 18.7s\tremaining: 6m 8s\n",
      "193:\tlearn: 0.2538943\ttotal: 18.8s\tremaining: 6m 8s\n",
      "194:\tlearn: 0.2538895\ttotal: 18.8s\tremaining: 6m 7s\n",
      "195:\tlearn: 0.2538541\ttotal: 19s\tremaining: 6m 8s\n",
      "196:\tlearn: 0.2538425\ttotal: 19s\tremaining: 6m 7s\n",
      "197:\tlearn: 0.2537537\ttotal: 19.2s\tremaining: 6m 7s\n",
      "198:\tlearn: 0.2536993\ttotal: 19.3s\tremaining: 6m 7s\n",
      "199:\tlearn: 0.2536823\ttotal: 19.4s\tremaining: 6m 7s\n",
      "200:\tlearn: 0.2536775\ttotal: 19.4s\tremaining: 6m 6s\n",
      "201:\tlearn: 0.2536061\ttotal: 19.5s\tremaining: 6m 6s\n",
      "202:\tlearn: 0.2535469\ttotal: 19.6s\tremaining: 6m 6s\n",
      "203:\tlearn: 0.2535428\ttotal: 19.6s\tremaining: 6m 5s\n",
      "204:\tlearn: 0.2534784\ttotal: 19.7s\tremaining: 6m 5s\n",
      "205:\tlearn: 0.2534293\ttotal: 19.8s\tremaining: 6m 5s\n",
      "206:\tlearn: 0.2534025\ttotal: 19.9s\tremaining: 6m 5s\n",
      "207:\tlearn: 0.2533606\ttotal: 20s\tremaining: 6m 5s\n",
      "208:\tlearn: 0.2533308\ttotal: 20.1s\tremaining: 6m 5s\n",
      "209:\tlearn: 0.2533063\ttotal: 20.2s\tremaining: 6m 5s\n",
      "210:\tlearn: 0.2532425\ttotal: 20.3s\tremaining: 6m 5s\n",
      "211:\tlearn: 0.2531854\ttotal: 20.5s\tremaining: 6m 5s\n",
      "212:\tlearn: 0.2531440\ttotal: 20.6s\tremaining: 6m 5s\n",
      "213:\tlearn: 0.2530748\ttotal: 20.7s\tremaining: 6m 6s\n",
      "214:\tlearn: 0.2530534\ttotal: 20.8s\tremaining: 6m 5s\n",
      "215:\tlearn: 0.2529740\ttotal: 20.9s\tremaining: 6m 6s\n",
      "216:\tlearn: 0.2528617\ttotal: 21s\tremaining: 6m 6s\n",
      "217:\tlearn: 0.2528072\ttotal: 21.1s\tremaining: 6m 6s\n",
      "218:\tlearn: 0.2527892\ttotal: 21.2s\tremaining: 6m 6s\n",
      "219:\tlearn: 0.2527742\ttotal: 21.3s\tremaining: 6m 6s\n",
      "220:\tlearn: 0.2527076\ttotal: 21.4s\tremaining: 6m 6s\n",
      "221:\tlearn: 0.2526717\ttotal: 21.5s\tremaining: 6m 6s\n",
      "222:\tlearn: 0.2525625\ttotal: 21.6s\tremaining: 6m 6s\n",
      "223:\tlearn: 0.2524923\ttotal: 21.7s\tremaining: 6m 6s\n",
      "224:\tlearn: 0.2524574\ttotal: 21.8s\tremaining: 6m 6s\n",
      "225:\tlearn: 0.2524525\ttotal: 21.9s\tremaining: 6m 6s\n",
      "226:\tlearn: 0.2524044\ttotal: 22.1s\tremaining: 6m 6s\n",
      "227:\tlearn: 0.2523752\ttotal: 22.2s\tremaining: 6m 7s\n",
      "228:\tlearn: 0.2523139\ttotal: 22.3s\tremaining: 6m 6s\n",
      "229:\tlearn: 0.2522955\ttotal: 22.4s\tremaining: 6m 7s\n",
      "230:\tlearn: 0.2522605\ttotal: 22.5s\tremaining: 6m 6s\n",
      "231:\tlearn: 0.2522356\ttotal: 22.6s\tremaining: 6m 7s\n",
      "232:\tlearn: 0.2521454\ttotal: 22.7s\tremaining: 6m 7s\n",
      "233:\tlearn: 0.2520899\ttotal: 22.8s\tremaining: 6m 7s\n",
      "234:\tlearn: 0.2520116\ttotal: 22.9s\tremaining: 6m 7s\n",
      "235:\tlearn: 0.2519894\ttotal: 23s\tremaining: 6m 7s\n",
      "236:\tlearn: 0.2519398\ttotal: 23.1s\tremaining: 6m 6s\n",
      "237:\tlearn: 0.2518663\ttotal: 23.2s\tremaining: 6m 7s\n",
      "238:\tlearn: 0.2518443\ttotal: 23.3s\tremaining: 6m 6s\n",
      "239:\tlearn: 0.2517976\ttotal: 23.4s\tremaining: 6m 7s\n",
      "240:\tlearn: 0.2517512\ttotal: 23.6s\tremaining: 6m 7s\n",
      "241:\tlearn: 0.2517408\ttotal: 23.6s\tremaining: 6m 7s\n",
      "242:\tlearn: 0.2516703\ttotal: 23.8s\tremaining: 6m 7s\n",
      "243:\tlearn: 0.2516555\ttotal: 23.9s\tremaining: 6m 7s\n",
      "244:\tlearn: 0.2515899\ttotal: 24s\tremaining: 6m 7s\n",
      "245:\tlearn: 0.2515198\ttotal: 24.1s\tremaining: 6m 7s\n",
      "246:\tlearn: 0.2514800\ttotal: 24.2s\tremaining: 6m 7s\n",
      "247:\tlearn: 0.2514515\ttotal: 24.3s\tremaining: 6m 7s\n",
      "248:\tlearn: 0.2514003\ttotal: 24.4s\tremaining: 6m 7s\n",
      "249:\tlearn: 0.2513523\ttotal: 24.5s\tremaining: 6m 7s\n",
      "250:\tlearn: 0.2512893\ttotal: 24.6s\tremaining: 6m 7s\n",
      "251:\tlearn: 0.2512279\ttotal: 24.7s\tremaining: 6m 7s\n",
      "252:\tlearn: 0.2512133\ttotal: 24.8s\tremaining: 6m 7s\n",
      "253:\tlearn: 0.2511771\ttotal: 24.9s\tremaining: 6m 7s\n",
      "254:\tlearn: 0.2511501\ttotal: 25s\tremaining: 6m 7s\n",
      "255:\tlearn: 0.2511368\ttotal: 25.1s\tremaining: 6m 6s\n",
      "256:\tlearn: 0.2510791\ttotal: 25.2s\tremaining: 6m 7s\n",
      "257:\tlearn: 0.2510739\ttotal: 25.3s\tremaining: 6m 6s\n",
      "258:\tlearn: 0.2510642\ttotal: 25.4s\tremaining: 6m 6s\n",
      "259:\tlearn: 0.2509902\ttotal: 25.5s\tremaining: 6m 6s\n",
      "260:\tlearn: 0.2509751\ttotal: 25.5s\tremaining: 6m 5s\n",
      "261:\tlearn: 0.2509147\ttotal: 25.6s\tremaining: 6m 5s\n",
      "262:\tlearn: 0.2508953\ttotal: 25.7s\tremaining: 6m 5s\n",
      "263:\tlearn: 0.2508504\ttotal: 25.8s\tremaining: 6m 5s\n",
      "264:\tlearn: 0.2508123\ttotal: 25.9s\tremaining: 6m 5s\n",
      "265:\tlearn: 0.2507486\ttotal: 26s\tremaining: 6m 5s\n",
      "266:\tlearn: 0.2506831\ttotal: 26.1s\tremaining: 6m 5s\n",
      "267:\tlearn: 0.2506193\ttotal: 26.2s\tremaining: 6m 4s\n",
      "268:\tlearn: 0.2505865\ttotal: 26.3s\tremaining: 6m 4s\n",
      "269:\tlearn: 0.2505695\ttotal: 26.4s\tremaining: 6m 4s\n",
      "270:\tlearn: 0.2504873\ttotal: 26.5s\tremaining: 6m 4s\n",
      "271:\tlearn: 0.2504282\ttotal: 26.6s\tremaining: 6m 4s\n"
     ]
    },
    {
     "ename": "KeyboardInterrupt",
     "evalue": "",
     "output_type": "error",
     "traceback": [
      "\u001b[1;31m---------------------------------------------------------------------------\u001b[0m",
      "\u001b[1;31mKeyboardInterrupt\u001b[0m                         Traceback (most recent call last)",
      "\u001b[1;32m~\\AppData\\Local\\Temp\\ipykernel_8432\\1405705672.py\u001b[0m in \u001b[0;36m<module>\u001b[1;34m\u001b[0m\n\u001b[0;32m      1\u001b[0m \u001b[0mmodel_CBC\u001b[0m \u001b[1;33m=\u001b[0m \u001b[0mCatBoostClassifier\u001b[0m\u001b[1;33m(\u001b[0m\u001b[0miterations\u001b[0m\u001b[1;33m=\u001b[0m\u001b[1;36m4000\u001b[0m\u001b[1;33m,\u001b[0m \u001b[0mloss_function\u001b[0m \u001b[1;33m=\u001b[0m \u001b[1;34m'CrossEntropy'\u001b[0m\u001b[1;33m,\u001b[0m \u001b[0mcat_features\u001b[0m\u001b[1;33m=\u001b[0m \u001b[0mcat_features\u001b[0m\u001b[1;33m)\u001b[0m\u001b[1;33m\u001b[0m\u001b[1;33m\u001b[0m\u001b[0m\n\u001b[1;32m----> 2\u001b[1;33m \u001b[0mmodel_CBC\u001b[0m\u001b[1;33m.\u001b[0m\u001b[0mfit\u001b[0m\u001b[1;33m(\u001b[0m\u001b[0mX_train_cat\u001b[0m\u001b[1;33m,\u001b[0m \u001b[0my_train_cat\u001b[0m\u001b[1;33m.\u001b[0m\u001b[0mravel\u001b[0m\u001b[1;33m(\u001b[0m\u001b[1;33m)\u001b[0m\u001b[1;33m)\u001b[0m\u001b[1;33m\u001b[0m\u001b[1;33m\u001b[0m\u001b[0m\n\u001b[0m\u001b[0;32m      3\u001b[0m \u001b[0mprint\u001b[0m\u001b[1;33m(\u001b[0m\u001b[0mmodel_CBC\u001b[0m\u001b[1;33m)\u001b[0m\u001b[1;33m\u001b[0m\u001b[1;33m\u001b[0m\u001b[0m\n",
      "\u001b[1;32m~\\anaconda3\\lib\\site-packages\\catboost\\core.py\u001b[0m in \u001b[0;36mfit\u001b[1;34m(self, X, y, cat_features, text_features, embedding_features, sample_weight, baseline, use_best_model, eval_set, verbose, logging_level, plot, plot_file, column_description, verbose_eval, metric_period, silent, early_stopping_rounds, save_snapshot, snapshot_file, snapshot_interval, init_model, callbacks, log_cout, log_cerr)\u001b[0m\n\u001b[0;32m   5129\u001b[0m             \u001b[0mCatBoostClassifier\u001b[0m\u001b[1;33m.\u001b[0m\u001b[0m_check_is_compatible_loss\u001b[0m\u001b[1;33m(\u001b[0m\u001b[0mparams\u001b[0m\u001b[1;33m[\u001b[0m\u001b[1;34m'loss_function'\u001b[0m\u001b[1;33m]\u001b[0m\u001b[1;33m)\u001b[0m\u001b[1;33m\u001b[0m\u001b[1;33m\u001b[0m\u001b[0m\n\u001b[0;32m   5130\u001b[0m \u001b[1;33m\u001b[0m\u001b[0m\n\u001b[1;32m-> 5131\u001b[1;33m         self._fit(X, y, cat_features, text_features, embedding_features, None, sample_weight, None, None, None, None, baseline, use_best_model,\n\u001b[0m\u001b[0;32m   5132\u001b[0m                   \u001b[0meval_set\u001b[0m\u001b[1;33m,\u001b[0m \u001b[0mverbose\u001b[0m\u001b[1;33m,\u001b[0m \u001b[0mlogging_level\u001b[0m\u001b[1;33m,\u001b[0m \u001b[0mplot\u001b[0m\u001b[1;33m,\u001b[0m \u001b[0mplot_file\u001b[0m\u001b[1;33m,\u001b[0m \u001b[0mcolumn_description\u001b[0m\u001b[1;33m,\u001b[0m \u001b[0mverbose_eval\u001b[0m\u001b[1;33m,\u001b[0m \u001b[0mmetric_period\u001b[0m\u001b[1;33m,\u001b[0m\u001b[1;33m\u001b[0m\u001b[1;33m\u001b[0m\u001b[0m\n\u001b[0;32m   5133\u001b[0m                   silent, early_stopping_rounds, save_snapshot, snapshot_file, snapshot_interval, init_model, callbacks, log_cout, log_cerr)\n",
      "\u001b[1;32m~\\anaconda3\\lib\\site-packages\\catboost\\core.py\u001b[0m in \u001b[0;36m_fit\u001b[1;34m(self, X, y, cat_features, text_features, embedding_features, pairs, sample_weight, group_id, group_weight, subgroup_id, pairs_weight, baseline, use_best_model, eval_set, verbose, logging_level, plot, plot_file, column_description, verbose_eval, metric_period, silent, early_stopping_rounds, save_snapshot, snapshot_file, snapshot_interval, init_model, callbacks, log_cout, log_cerr)\u001b[0m\n\u001b[0;32m   2355\u001b[0m         \u001b[1;32mwith\u001b[0m \u001b[0mlog_fixup\u001b[0m\u001b[1;33m(\u001b[0m\u001b[0mlog_cout\u001b[0m\u001b[1;33m,\u001b[0m \u001b[0mlog_cerr\u001b[0m\u001b[1;33m)\u001b[0m\u001b[1;33m,\u001b[0m\u001b[0;31m \u001b[0m\u001b[0;31m\\\u001b[0m\u001b[1;33m\u001b[0m\u001b[1;33m\u001b[0m\u001b[0m\n\u001b[0;32m   2356\u001b[0m             \u001b[0mplot_wrapper\u001b[0m\u001b[1;33m(\u001b[0m\u001b[0mplot\u001b[0m\u001b[1;33m,\u001b[0m \u001b[0mplot_file\u001b[0m\u001b[1;33m,\u001b[0m \u001b[1;34m'Training plots'\u001b[0m\u001b[1;33m,\u001b[0m \u001b[1;33m[\u001b[0m\u001b[0m_get_train_dir\u001b[0m\u001b[1;33m(\u001b[0m\u001b[0mself\u001b[0m\u001b[1;33m.\u001b[0m\u001b[0mget_params\u001b[0m\u001b[1;33m(\u001b[0m\u001b[1;33m)\u001b[0m\u001b[1;33m)\u001b[0m\u001b[1;33m]\u001b[0m\u001b[1;33m)\u001b[0m\u001b[1;33m:\u001b[0m\u001b[1;33m\u001b[0m\u001b[1;33m\u001b[0m\u001b[0m\n\u001b[1;32m-> 2357\u001b[1;33m             self._train(\n\u001b[0m\u001b[0;32m   2358\u001b[0m                 \u001b[0mtrain_pool\u001b[0m\u001b[1;33m,\u001b[0m\u001b[1;33m\u001b[0m\u001b[1;33m\u001b[0m\u001b[0m\n\u001b[0;32m   2359\u001b[0m                 \u001b[0mtrain_params\u001b[0m\u001b[1;33m[\u001b[0m\u001b[1;34m\"eval_sets\"\u001b[0m\u001b[1;33m]\u001b[0m\u001b[1;33m,\u001b[0m\u001b[1;33m\u001b[0m\u001b[1;33m\u001b[0m\u001b[0m\n",
      "\u001b[1;32m~\\anaconda3\\lib\\site-packages\\catboost\\core.py\u001b[0m in \u001b[0;36m_train\u001b[1;34m(self, train_pool, test_pool, params, allow_clear_pool, init_model)\u001b[0m\n\u001b[0;32m   1759\u001b[0m \u001b[1;33m\u001b[0m\u001b[0m\n\u001b[0;32m   1760\u001b[0m     \u001b[1;32mdef\u001b[0m \u001b[0m_train\u001b[0m\u001b[1;33m(\u001b[0m\u001b[0mself\u001b[0m\u001b[1;33m,\u001b[0m \u001b[0mtrain_pool\u001b[0m\u001b[1;33m,\u001b[0m \u001b[0mtest_pool\u001b[0m\u001b[1;33m,\u001b[0m \u001b[0mparams\u001b[0m\u001b[1;33m,\u001b[0m \u001b[0mallow_clear_pool\u001b[0m\u001b[1;33m,\u001b[0m \u001b[0minit_model\u001b[0m\u001b[1;33m)\u001b[0m\u001b[1;33m:\u001b[0m\u001b[1;33m\u001b[0m\u001b[1;33m\u001b[0m\u001b[0m\n\u001b[1;32m-> 1761\u001b[1;33m         \u001b[0mself\u001b[0m\u001b[1;33m.\u001b[0m\u001b[0m_object\u001b[0m\u001b[1;33m.\u001b[0m\u001b[0m_train\u001b[0m\u001b[1;33m(\u001b[0m\u001b[0mtrain_pool\u001b[0m\u001b[1;33m,\u001b[0m \u001b[0mtest_pool\u001b[0m\u001b[1;33m,\u001b[0m \u001b[0mparams\u001b[0m\u001b[1;33m,\u001b[0m \u001b[0mallow_clear_pool\u001b[0m\u001b[1;33m,\u001b[0m \u001b[0minit_model\u001b[0m\u001b[1;33m.\u001b[0m\u001b[0m_object\u001b[0m \u001b[1;32mif\u001b[0m \u001b[0minit_model\u001b[0m \u001b[1;32melse\u001b[0m \u001b[1;32mNone\u001b[0m\u001b[1;33m)\u001b[0m\u001b[1;33m\u001b[0m\u001b[1;33m\u001b[0m\u001b[0m\n\u001b[0m\u001b[0;32m   1762\u001b[0m         \u001b[0mself\u001b[0m\u001b[1;33m.\u001b[0m\u001b[0m_set_trained_model_attributes\u001b[0m\u001b[1;33m(\u001b[0m\u001b[1;33m)\u001b[0m\u001b[1;33m\u001b[0m\u001b[1;33m\u001b[0m\u001b[0m\n\u001b[0;32m   1763\u001b[0m \u001b[1;33m\u001b[0m\u001b[0m\n",
      "\u001b[1;32m_catboost.pyx\u001b[0m in \u001b[0;36m_catboost._CatBoost._train\u001b[1;34m()\u001b[0m\n",
      "\u001b[1;32m_catboost.pyx\u001b[0m in \u001b[0;36m_catboost._CatBoost._train\u001b[1;34m()\u001b[0m\n",
      "\u001b[1;31mKeyboardInterrupt\u001b[0m: "
     ]
    }
   ],
   "source": [
    "model_CBC = CatBoostClassifier(iterations=4000, loss_function = 'CrossEntropy', cat_features= cat_features)\n",
    "model_CBC.fit(X_train_cat, y_train_cat.ravel())\n",
    "print(model_CBC)"
   ]
  },
  {
   "cell_type": "code",
   "execution_count": 95,
   "id": "b315c93d",
   "metadata": {},
   "outputs": [],
   "source": [
    "y_pred_cat = model_CBC.predict(X_val_cat)"
   ]
  },
  {
   "cell_type": "code",
   "execution_count": 96,
   "id": "85340088",
   "metadata": {},
   "outputs": [
    {
     "data": {
      "text/plain": [
       "0.9082125603864735"
      ]
     },
     "execution_count": 96,
     "metadata": {},
     "output_type": "execute_result"
    }
   ],
   "source": [
    "accuracy_score(y_val_cat, y_pred_cat)"
   ]
  },
  {
   "cell_type": "code",
   "execution_count": null,
   "id": "12b4a0de-5b19-42b1-a01a-9dcffade887d",
   "metadata": {},
   "outputs": [],
   "source": [
    "model_CBC = CatBoostClassifier(iterations=4000, loss_function = 'CrossEntropy', cat_features= cat_features)\n",
    "model_CBC.fit(X_cat, y_cat.ravel())\n",
    "print(model_CBC)"
   ]
  },
  {
   "cell_type": "code",
   "execution_count": 148,
   "id": "8fd62df6",
   "metadata": {},
   "outputs": [],
   "source": [
    "y_test_cat = test[\"AVTRRT_Stage_c\"]\n",
    "id_cat = test[\"Id\"]\n",
    "X_test_cat = test.drop([\"AVTRRT_Stage_c\", \"Id\"], axis = 1)"
   ]
  },
  {
   "cell_type": "code",
   "execution_count": 149,
   "id": "63834228",
   "metadata": {},
   "outputs": [],
   "source": [
    "X_test_cat[cat_features] = X_test_cat[cat_features].fillna('unknown')\n",
    "column_means = X_test_cat[num_features].median()\n",
    "\n",
    "# Riempimento dei valori mancanti con la media delle colonne\n",
    "X_test_cat[num_features] = X_test_cat[num_features].fillna(column_means)"
   ]
  },
  {
   "cell_type": "code",
   "execution_count": 150,
   "id": "5412dadb",
   "metadata": {},
   "outputs": [],
   "source": [
    "y_pred_test_cat = model_CBC.predict(X_test_cat)"
   ]
  },
  {
   "cell_type": "code",
   "execution_count": null,
   "id": "91f56bfe-8a20-4bdc-8b8d-45a195fab58f",
   "metadata": {},
   "outputs": [],
   "source": [
    "data_cat = pd.DataFrame({'Id': id_cat, 'Predictions': y_pred_test_cat})"
   ]
  },
  {
   "cell_type": "code",
   "execution_count": 152,
   "id": "091bc383",
   "metadata": {
    "tags": []
   },
   "outputs": [],
   "source": [
    "data_cat.to_csv(\"pred.csv\", index = False, header = False)"
   ]
  },
  {
   "cell_type": "code",
   "execution_count": null,
   "id": "5774696a-033b-4e40-ba54-f3cc21aef0b8",
   "metadata": {},
   "outputs": [],
   "source": [
    "pd.read_csv('pred.csv').drop('a0Db000000V3XVjEAN', axis=1).to_csv('preds_one_column.csv', index=False)"
   ]
  },
  {
   "cell_type": "markdown",
   "id": "28fa2736",
   "metadata": {
    "tags": []
   },
   "source": [
    "## Data preprocessing"
   ]
  },
  {
   "cell_type": "code",
   "execution_count": 43,
   "id": "6b23312f",
   "metadata": {},
   "outputs": [],
   "source": [
    "y = train[\"AVTRRT_Stage_c\"]\n",
    "X = train.drop([\"AVTRRT_Stage_c\", \"Id\"], axis = 1)"
   ]
  },
  {
   "cell_type": "code",
   "execution_count": 44,
   "id": "86a9c670",
   "metadata": {},
   "outputs": [],
   "source": [
    "X_train, X_val, y_train, y_val = train_test_split(X, y, test_size=0.2, stratify = y_cat)"
   ]
  },
  {
   "cell_type": "code",
   "execution_count": 45,
   "id": "c0b2c2ef",
   "metadata": {},
   "outputs": [],
   "source": [
    "from sklearn.pipeline import Pipeline\n",
    "from sklearn.impute import SimpleImputer\n",
    "from sklearn.preprocessing import OneHotEncoder\n",
    "from category_encoders import LeaveOneOutEncoder, OrdinalEncoder"
   ]
  },
  {
   "cell_type": "code",
   "execution_count": 46,
   "id": "676bd4ac",
   "metadata": {},
   "outputs": [],
   "source": [
    "num_pipe = Pipeline([\n",
    "    ('imputer', SimpleImputer(missing_values=np.nan, strategy='median'))\n",
    "])\n",
    "\n",
    "leave_pipe = Pipeline([\n",
    "    ('imputer', SimpleImputer(strategy='constant', fill_value='Unknown')),\n",
    "    ('transformer', LeaveOneOutEncoder())\n",
    "])\n",
    "\n",
    "hot_pipe = Pipeline([\n",
    "    ('imputer', SimpleImputer(strategy='constant', fill_value='Unknown')),\n",
    "    ('encoder', OneHotEncoder(drop = 'first', sparse = False))\n",
    "])\n",
    "\n",
    "ord_pipe = Pipeline([\n",
    "    ('imputer', SimpleImputer(strategy='constant', fill_value='Unknown')),\n",
    "    ('encoder', OrdinalEncoder([['Unknown', '0', '1-2', '3-5', '6-10', '10']]))\n",
    "])"
   ]
  },
  {
   "cell_type": "code",
   "execution_count": 47,
   "id": "6feb3ac5",
   "metadata": {},
   "outputs": [],
   "source": [
    "from sklearn.compose import ColumnTransformer"
   ]
  },
  {
   "cell_type": "code",
   "execution_count": null,
   "id": "fdc83143",
   "metadata": {},
   "outputs": [],
   "source": [
    "ct = ColumnTransformer([\n",
    "    ('num', num_pipe, num_features),\n",
    "    ('leave', leave_pipe, ['AVTRRT_City_c', 'AVTRRT_Job_Title_c', 'AVTRRT_Job_Category_c','AVTRRT_Job_Term_c',\n",
    "                                              'Job_Type_c', 'OSN_Practice_Focus_c']),\n",
    "    ('hot', hot_pipe, ['Job_Type_c', 'Type_of_contract_c', 'Project_Management_c', 'Type_of_contract_c']),\n",
    "    ('ord', ord_pipe, ['Team_Leading_c']),\n",
    "],\n",
    "    remainder='drop'\n",
    ")\n",
    "ct"
   ]
  },
  {
   "cell_type": "markdown",
   "id": "a21750ee-455c-41b8-a056-5671a2400456",
   "metadata": {},
   "source": [
    "## Logistic Regression"
   ]
  },
  {
   "cell_type": "code",
   "execution_count": 54,
   "id": "a57cba29-3189-42a4-b4e5-196d9c19f8a0",
   "metadata": {},
   "outputs": [],
   "source": [
    "from sklearn.linear_model import LogisticRegression\n",
    "\n",
    "model = LogisticRegression()"
   ]
  },
  {
   "cell_type": "code",
   "execution_count": 55,
   "id": "1366ac91-e633-4e70-836f-4582cd1a9a14",
   "metadata": {},
   "outputs": [
    {
     "data": {
      "text/plain": [
       "Pipeline(steps=[('ct',\n",
       "                 ColumnTransformer(transformers=[('num',\n",
       "                                                  Pipeline(steps=[('imputer',\n",
       "                                                                   SimpleImputer(strategy='median'))]),\n",
       "                                                  ['AVTRRT_Relocation_c',\n",
       "                                                   'AVTRRT_Number_of_Applicants_c',\n",
       "                                                   'AVTRRT_Number_of_Positions_c',\n",
       "                                                   'AVTRRT_Number_of_Interviews_c',\n",
       "                                                   'Fix_Salary_c',\n",
       "                                                   'Variable_Bonus_c',\n",
       "                                                   'Commission_Fee_c']),\n",
       "                                                 ('leave',\n",
       "                                                  Pipeline(steps=[('imputer',\n",
       "                                                                   SimpleImputer(fil...\n",
       "                                                                   OneHotEncoder(drop='first',\n",
       "                                                                                 sparse=False))]),\n",
       "                                                  ['Job_Type_c',\n",
       "                                                   'Type_of_contract_c',\n",
       "                                                   'Project_Management_c',\n",
       "                                                   'Type_of_contract_c']),\n",
       "                                                 ('ord',\n",
       "                                                  Pipeline(steps=[('imputer',\n",
       "                                                                   SimpleImputer(fill_value='Unknown',\n",
       "                                                                                 strategy='constant')),\n",
       "                                                                  ('encoder',\n",
       "                                                                   OrdinalEncoder(verbose=[['Unknown',\n",
       "                                                                                            '0',\n",
       "                                                                                            '1-2',\n",
       "                                                                                            '3-5',\n",
       "                                                                                            '6-10',\n",
       "                                                                                            '10']]))]),\n",
       "                                                  ['Team_Leading_c'])])),\n",
       "                ('classifier', LogisticRegression())])"
      ]
     },
     "execution_count": 55,
     "metadata": {},
     "output_type": "execute_result"
    }
   ],
   "source": [
    "pipe = Pipeline([\n",
    "    ('ct', ct),\n",
    "    ('classifier', model)\n",
    "])\n",
    "pipe"
   ]
  },
  {
   "cell_type": "code",
   "execution_count": 56,
   "id": "26818ba7-e906-4ca9-b6e9-a5ebde89f10d",
   "metadata": {},
   "outputs": [
    {
     "name": "stdout",
     "output_type": "stream",
     "text": [
      "Fitting 3 folds for each of 3 candidates, totalling 9 fits\n"
     ]
    }
   ],
   "source": [
    "from sklearn.model_selection import GridSearchCV\n",
    "\n",
    "param_grid = {\n",
    "    'classifier__penalty': ['l2'],\n",
    "    'classifier__C': [0.1, 1.0, 10.0]\n",
    "}\n",
    "\n",
    "grid = GridSearchCV(\n",
    "    estimator=pipe,\n",
    "    param_grid=param_grid,\n",
    "    cv=3,\n",
    "    verbose=3, \n",
    "    n_jobs=-1, \n",
    "    #pre_dispatch=4,\n",
    "    return_train_score=True,\n",
    ")\n",
    "\n",
    "model_grid = grid.fit(X_train, y_train.ravel())"
   ]
  },
  {
   "cell_type": "code",
   "execution_count": 57,
   "id": "2612433f-6df1-4e65-a8e4-b370cf23e77e",
   "metadata": {},
   "outputs": [
    {
     "data": {
      "text/plain": [
       "{'classifier__C': 0.1, 'classifier__penalty': 'l2'}"
      ]
     },
     "execution_count": 57,
     "metadata": {},
     "output_type": "execute_result"
    }
   ],
   "source": [
    "model_grid.best_params_"
   ]
  },
  {
   "cell_type": "code",
   "execution_count": 58,
   "id": "5931c99e-9257-409e-8377-eb5c126ef484",
   "metadata": {},
   "outputs": [],
   "source": [
    "model = model_grid.best_estimator_"
   ]
  },
  {
   "cell_type": "code",
   "execution_count": 59,
   "id": "8b6c69b2-d95f-4ee9-b9c2-ccfd0e227590",
   "metadata": {},
   "outputs": [
    {
     "data": {
      "text/plain": [
       "array([[  23, 1518],\n",
       "       [  67, 5637]], dtype=int64)"
      ]
     },
     "execution_count": 59,
     "metadata": {},
     "output_type": "execute_result"
    }
   ],
   "source": [
    "from sklearn.metrics import confusion_matrix\n",
    "from sklearn.metrics import classification_report\n",
    "\n",
    "confusion_matrix(y_val, model.predict(X_val))"
   ]
  },
  {
   "cell_type": "code",
   "execution_count": 60,
   "id": "74541a29-c93d-4f5f-8a6e-61833542a262",
   "metadata": {},
   "outputs": [
    {
     "name": "stdout",
     "output_type": "stream",
     "text": [
      "              precision    recall  f1-score   support\n",
      "\n",
      "         0.0       0.26      0.01      0.03      1541\n",
      "         1.0       0.79      0.99      0.88      5704\n",
      "\n",
      "    accuracy                           0.78      7245\n",
      "   macro avg       0.52      0.50      0.45      7245\n",
      "weighted avg       0.67      0.78      0.70      7245\n",
      "\n"
     ]
    }
   ],
   "source": [
    "print(classification_report(y_val, model.predict(X_val)))"
   ]
  },
  {
   "cell_type": "markdown",
   "id": "590d3642-bcd6-4577-8efe-036f4426a49e",
   "metadata": {},
   "source": [
    "## lightGbm"
   ]
  },
  {
   "cell_type": "code",
   "execution_count": 63,
   "id": "589f75e5-1616-4ab1-8c34-7ff461ab98e4",
   "metadata": {},
   "outputs": [],
   "source": [
    "from lightgbm import LGBMClassifier\n",
    "\n",
    "model = LGBMClassifier()"
   ]
  },
  {
   "cell_type": "code",
   "execution_count": 64,
   "id": "8f6adb4e-7782-4337-97d6-3450783dd4f9",
   "metadata": {},
   "outputs": [
    {
     "data": {
      "text/plain": [
       "Pipeline(steps=[('ct',\n",
       "                 ColumnTransformer(transformers=[('num',\n",
       "                                                  Pipeline(steps=[('imputer',\n",
       "                                                                   SimpleImputer(strategy='median'))]),\n",
       "                                                  ['AVTRRT_Relocation_c',\n",
       "                                                   'AVTRRT_Number_of_Applicants_c',\n",
       "                                                   'AVTRRT_Number_of_Positions_c',\n",
       "                                                   'AVTRRT_Number_of_Interviews_c',\n",
       "                                                   'Fix_Salary_c',\n",
       "                                                   'Variable_Bonus_c',\n",
       "                                                   'Commission_Fee_c']),\n",
       "                                                 ('leave',\n",
       "                                                  Pipeline(steps=[('imputer',\n",
       "                                                                   SimpleImputer(fil...\n",
       "                                                                   OneHotEncoder(drop='first',\n",
       "                                                                                 sparse=False))]),\n",
       "                                                  ['Job_Type_c',\n",
       "                                                   'Type_of_contract_c',\n",
       "                                                   'Project_Management_c',\n",
       "                                                   'Type_of_contract_c']),\n",
       "                                                 ('ord',\n",
       "                                                  Pipeline(steps=[('imputer',\n",
       "                                                                   SimpleImputer(fill_value='Unknown',\n",
       "                                                                                 strategy='constant')),\n",
       "                                                                  ('encoder',\n",
       "                                                                   OrdinalEncoder(verbose=[['Unknown',\n",
       "                                                                                            '0',\n",
       "                                                                                            '1-2',\n",
       "                                                                                            '3-5',\n",
       "                                                                                            '6-10',\n",
       "                                                                                            '10']]))]),\n",
       "                                                  ['Team_Leading_c'])])),\n",
       "                ('classifier', LGBMClassifier())])"
      ]
     },
     "execution_count": 64,
     "metadata": {},
     "output_type": "execute_result"
    }
   ],
   "source": [
    "pipe = Pipeline([\n",
    "    ('ct', ct),\n",
    "    ('classifier', model)\n",
    "])\n",
    "pipe"
   ]
  },
  {
   "cell_type": "code",
   "execution_count": 70,
   "id": "6722cf47-b799-40c8-bdb9-401da35373f8",
   "metadata": {},
   "outputs": [
    {
     "data": {
      "text/plain": [
       "Pipeline(steps=[('ct',\n",
       "                 ColumnTransformer(transformers=[('num',\n",
       "                                                  Pipeline(steps=[('imputer',\n",
       "                                                                   SimpleImputer(strategy='median'))]),\n",
       "                                                  ['AVTRRT_Relocation_c',\n",
       "                                                   'AVTRRT_Number_of_Applicants_c',\n",
       "                                                   'AVTRRT_Number_of_Positions_c',\n",
       "                                                   'AVTRRT_Number_of_Interviews_c',\n",
       "                                                   'Fix_Salary_c',\n",
       "                                                   'Variable_Bonus_c',\n",
       "                                                   'Commission_Fee_c']),\n",
       "                                                 ('leave',\n",
       "                                                  Pipeline(steps=[('imputer',\n",
       "                                                                   SimpleImputer(fil...\n",
       "                                                                   OneHotEncoder(drop='first',\n",
       "                                                                                 sparse=False))]),\n",
       "                                                  ['Job_Type_c',\n",
       "                                                   'Type_of_contract_c',\n",
       "                                                   'Project_Management_c',\n",
       "                                                   'Type_of_contract_c']),\n",
       "                                                 ('ord',\n",
       "                                                  Pipeline(steps=[('imputer',\n",
       "                                                                   SimpleImputer(fill_value='Unknown',\n",
       "                                                                                 strategy='constant')),\n",
       "                                                                  ('encoder',\n",
       "                                                                   OrdinalEncoder(verbose=[['Unknown',\n",
       "                                                                                            '0',\n",
       "                                                                                            '1-2',\n",
       "                                                                                            '3-5',\n",
       "                                                                                            '6-10',\n",
       "                                                                                            '10']]))]),\n",
       "                                                  ['Team_Leading_c'])])),\n",
       "                ('classifier', LGBMClassifier())])"
      ]
     },
     "execution_count": 70,
     "metadata": {},
     "output_type": "execute_result"
    }
   ],
   "source": [
    "pipe.fit(X_train, y_train.ravel())"
   ]
  },
  {
   "cell_type": "code",
   "execution_count": 72,
   "id": "a213ebba-cfcc-4949-a1e2-bcc47ee4fcc4",
   "metadata": {},
   "outputs": [
    {
     "data": {
      "text/plain": [
       "array([[   0, 1541],\n",
       "       [   0, 5704]], dtype=int64)"
      ]
     },
     "execution_count": 72,
     "metadata": {},
     "output_type": "execute_result"
    }
   ],
   "source": [
    "confusion_matrix(y_val, pipe.predict(X_val))"
   ]
  },
  {
   "cell_type": "code",
   "execution_count": 73,
   "id": "8b4699b4-1a72-4188-a8b9-b5a515a3759c",
   "metadata": {},
   "outputs": [
    {
     "name": "stdout",
     "output_type": "stream",
     "text": [
      "              precision    recall  f1-score   support\n",
      "\n",
      "         0.0       0.00      0.00      0.00      1541\n",
      "         1.0       0.79      1.00      0.88      5704\n",
      "\n",
      "    accuracy                           0.79      7245\n",
      "   macro avg       0.39      0.50      0.44      7245\n",
      "weighted avg       0.62      0.79      0.69      7245\n",
      "\n"
     ]
    },
    {
     "name": "stderr",
     "output_type": "stream",
     "text": [
      "C:\\Users\\Fioruch\\anaconda3\\lib\\site-packages\\sklearn\\metrics\\_classification.py:1318: UndefinedMetricWarning: Precision and F-score are ill-defined and being set to 0.0 in labels with no predicted samples. Use `zero_division` parameter to control this behavior.\n",
      "  _warn_prf(average, modifier, msg_start, len(result))\n",
      "C:\\Users\\Fioruch\\anaconda3\\lib\\site-packages\\sklearn\\metrics\\_classification.py:1318: UndefinedMetricWarning: Precision and F-score are ill-defined and being set to 0.0 in labels with no predicted samples. Use `zero_division` parameter to control this behavior.\n",
      "  _warn_prf(average, modifier, msg_start, len(result))\n",
      "C:\\Users\\Fioruch\\anaconda3\\lib\\site-packages\\sklearn\\metrics\\_classification.py:1318: UndefinedMetricWarning: Precision and F-score are ill-defined and being set to 0.0 in labels with no predicted samples. Use `zero_division` parameter to control this behavior.\n",
      "  _warn_prf(average, modifier, msg_start, len(result))\n"
     ]
    }
   ],
   "source": [
    "print(classification_report(y_val, pipe.predict(X_val)))"
   ]
  },
  {
   "cell_type": "markdown",
   "id": "f57f8c64-007b-4a32-a080-b83d8794ca90",
   "metadata": {},
   "source": [
    "## Xgboost"
   ]
  },
  {
   "cell_type": "code",
   "execution_count": 81,
   "id": "cd0f01ce-a708-4f58-b930-73a14f1f1fc0",
   "metadata": {},
   "outputs": [],
   "source": [
    "from xgboost import XGBClassifier\n",
    "\n",
    "model = XGBClassifier()"
   ]
  },
  {
   "cell_type": "code",
   "execution_count": 82,
   "id": "96e6efd7-551f-4d11-865f-e74f7e5a8327",
   "metadata": {},
   "outputs": [
    {
     "data": {
      "text/plain": [
       "Pipeline(steps=[('ct',\n",
       "                 ColumnTransformer(transformers=[('num',\n",
       "                                                  Pipeline(steps=[('imputer',\n",
       "                                                                   SimpleImputer(strategy='median'))]),\n",
       "                                                  ['AVTRRT_Relocation_c',\n",
       "                                                   'AVTRRT_Number_of_Applicants_c',\n",
       "                                                   'AVTRRT_Number_of_Positions_c',\n",
       "                                                   'AVTRRT_Number_of_Interviews_c',\n",
       "                                                   'Fix_Salary_c',\n",
       "                                                   'Variable_Bonus_c',\n",
       "                                                   'Commission_Fee_c']),\n",
       "                                                 ('leave',\n",
       "                                                  Pipeline(steps=[('imputer',\n",
       "                                                                   SimpleImputer(fil...\n",
       "                               feature_types=None, gamma=None, gpu_id=None,\n",
       "                               grow_policy=None, importance_type=None,\n",
       "                               interaction_constraints=None, learning_rate=None,\n",
       "                               max_bin=None, max_cat_threshold=None,\n",
       "                               max_cat_to_onehot=None, max_delta_step=None,\n",
       "                               max_depth=None, max_leaves=None,\n",
       "                               min_child_weight=None, missing=nan,\n",
       "                               monotone_constraints=None, n_estimators=100,\n",
       "                               n_jobs=None, num_parallel_tree=None,\n",
       "                               predictor=None, random_state=None, ...))])"
      ]
     },
     "execution_count": 82,
     "metadata": {},
     "output_type": "execute_result"
    }
   ],
   "source": [
    "pipe = Pipeline([\n",
    "    ('ct', ct),\n",
    "    ('classifier', model)\n",
    "])\n",
    "pipe"
   ]
  },
  {
   "cell_type": "code",
   "execution_count": 83,
   "id": "04c10960-a8f7-461d-9ff2-e2bfd1879b2c",
   "metadata": {},
   "outputs": [
    {
     "data": {
      "text/plain": [
       "Pipeline(steps=[('ct',\n",
       "                 ColumnTransformer(transformers=[('num',\n",
       "                                                  Pipeline(steps=[('imputer',\n",
       "                                                                   SimpleImputer(strategy='median'))]),\n",
       "                                                  ['AVTRRT_Relocation_c',\n",
       "                                                   'AVTRRT_Number_of_Applicants_c',\n",
       "                                                   'AVTRRT_Number_of_Positions_c',\n",
       "                                                   'AVTRRT_Number_of_Interviews_c',\n",
       "                                                   'Fix_Salary_c',\n",
       "                                                   'Variable_Bonus_c',\n",
       "                                                   'Commission_Fee_c']),\n",
       "                                                 ('leave',\n",
       "                                                  Pipeline(steps=[('imputer',\n",
       "                                                                   SimpleImputer(fil...\n",
       "                               feature_types=None, gamma=None, gpu_id=None,\n",
       "                               grow_policy=None, importance_type=None,\n",
       "                               interaction_constraints=None, learning_rate=None,\n",
       "                               max_bin=None, max_cat_threshold=None,\n",
       "                               max_cat_to_onehot=None, max_delta_step=None,\n",
       "                               max_depth=None, max_leaves=None,\n",
       "                               min_child_weight=None, missing=nan,\n",
       "                               monotone_constraints=None, n_estimators=100,\n",
       "                               n_jobs=None, num_parallel_tree=None,\n",
       "                               predictor=None, random_state=None, ...))])"
      ]
     },
     "execution_count": 83,
     "metadata": {},
     "output_type": "execute_result"
    }
   ],
   "source": [
    "pipe.fit(X_train, y_train.ravel())"
   ]
  },
  {
   "cell_type": "code",
   "execution_count": 84,
   "id": "f7478c74-ad03-47b2-964d-418ac6c3d8ce",
   "metadata": {},
   "outputs": [
    {
     "data": {
      "text/plain": [
       "array([[   1, 1540],\n",
       "       [   0, 5704]], dtype=int64)"
      ]
     },
     "execution_count": 84,
     "metadata": {},
     "output_type": "execute_result"
    }
   ],
   "source": [
    "confusion_matrix(y_val, pipe.predict(X_val))"
   ]
  },
  {
   "cell_type": "code",
   "execution_count": 85,
   "id": "4ab61ab8-8f25-4669-ba27-fe151f19f85c",
   "metadata": {},
   "outputs": [
    {
     "name": "stdout",
     "output_type": "stream",
     "text": [
      "              precision    recall  f1-score   support\n",
      "\n",
      "         0.0       1.00      0.00      0.00      1541\n",
      "         1.0       0.79      1.00      0.88      5704\n",
      "\n",
      "    accuracy                           0.79      7245\n",
      "   macro avg       0.89      0.50      0.44      7245\n",
      "weighted avg       0.83      0.79      0.69      7245\n",
      "\n"
     ]
    }
   ],
   "source": [
    "print(classification_report(y_val, pipe.predict(X_val)))"
   ]
  },
  {
   "cell_type": "markdown",
   "id": "c5b6056f-2ce8-4713-9bdd-e38d88e7df68",
   "metadata": {},
   "source": [
    "## Conclusion"
   ]
  },
  {
   "cell_type": "markdown",
   "id": "f39a2dee-db61-43af-917c-ff3d291aaea0",
   "metadata": {},
   "source": [
    "In the process of choosing a suitable model, we faced a decision between CatBoost, which offers automatic preprocessing and high performance, and a variety of other models that, despite exhaustive preprocessing, failed to yield comparable results. Ultimately, we selected CatBoost as our model of choice, driven by its superior accuracy and recall metrics."
   ]
  }
 ],
 "metadata": {
  "kernelspec": {
   "display_name": "Python 3 (ipykernel)",
   "language": "python",
   "name": "python3"
  },
  "language_info": {
   "codemirror_mode": {
    "name": "ipython",
    "version": 3
   },
   "file_extension": ".py",
   "mimetype": "text/x-python",
   "name": "python",
   "nbconvert_exporter": "python",
   "pygments_lexer": "ipython3",
   "version": "3.9.13"
  }
 },
 "nbformat": 4,
 "nbformat_minor": 5
}
